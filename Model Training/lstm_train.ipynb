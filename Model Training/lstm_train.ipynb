{
  "cells": [
    {
      "cell_type": "code",
      "execution_count": null,
      "metadata": {
        "id": "V3es4B7QVh-m"
      },
      "outputs": [],
      "source": [
        "import pandas as pd\n",
        "import numpy as np\n",
        "import math\n",
        "\n",
        "from tensorflow.keras.models import load_model\n",
        "from tensorflow.keras.models import Sequential\n",
        "from tensorflow.keras.layers import LSTM\n",
        "from tensorflow.keras.layers import Dense\n",
        "from tensorflow.keras.layers import Flatten\n",
        "from sklearn.preprocessing import MinMaxScaler\n",
        "from sklearn.metrics import mean_squared_error\n",
        "\n",
        "from tensorflow.keras.callbacks import ModelCheckpoint"
      ]
    },
    {
      "cell_type": "code",
      "source": [
        "from google.colab import drive\n",
        "drive.mount('/content/drive')\n",
        "%cd /content/drive/My Drive/CS3237\n",
        "!ls"
      ],
      "metadata": {
        "colab": {
          "base_uri": "https://localhost:8080/"
        },
        "id": "xfwkbuVnWEZl",
        "outputId": "e70dd9a5-9c45-47e2-bb99-bc724ee199cd"
      },
      "execution_count": null,
      "outputs": [
        {
          "output_type": "stream",
          "name": "stdout",
          "text": [
            "Mounted at /content/drive\n",
            "/content/drive/My Drive/CS3237\n",
            "'Data Processing_Fall.ipynb'   fall_57_processed.csv\n",
            "'Data Processing_LSTM.ipynb'   fall_58_processed.csv\n",
            " down_up_processed.csv\t       fall_59_processed.csv\n",
            " fall_100_processed.csv        fall_5_processed.csv\n",
            " fall_10_processed.csv\t       fall_60_processed.csv\n",
            " fall_11_processed.csv\t       fall_61_processed.csv\n",
            " fall_12_processed.csv\t       fall_62_processed.csv\n",
            " fall_13_processed.csv\t       fall_63_processed.csv\n",
            " fall_14_processed.csv\t       fall_64_processed.csv\n",
            " fall_15_processed.csv\t       fall_65_processed.csv\n",
            " fall_16_processed.csv\t       fall_66_processed.csv\n",
            " fall_17_processed.csv\t       fall_67_processed.csv\n",
            " fall_18_processed.csv\t       fall_68_processed.csv\n",
            " fall_19_processed.csv\t       fall_69_processed.csv\n",
            " fall_1_processed.csv\t       fall_6_processed.csv\n",
            " fall_20_processed.csv\t       fall_70_processed.csv\n",
            " fall_21_processed.csv\t       fall_71_processed.csv\n",
            " fall_22_processed.csv\t       fall_72_processed.csv\n",
            " fall_23_processed.csv\t       fall_73_processed.csv\n",
            " fall_24_processed.csv\t       fall_74_processed.csv\n",
            " fall_25_processed.csv\t       fall_75_processed.csv\n",
            " fall_26_processed.csv\t       fall_76_processed.csv\n",
            " fall_27_processed.csv\t       fall_77_processed.csv\n",
            " fall_28_processed.csv\t       fall_78_processed.csv\n",
            " fall_29_processed.csv\t       fall_79_processed.csv\n",
            " fall_2_processed.csv\t       fall_7_processed.csv\n",
            " fall_30_processed.csv\t       fall_80_processed.csv\n",
            " fall_31_processed.csv\t       fall_81_processed.csv\n",
            " fall_32_processed.csv\t       fall_82_processed.csv\n",
            " fall_33_processed.csv\t       fall_83_processed.csv\n",
            " fall_34_processed.csv\t       fall_84_processed.csv\n",
            " fall_35_processed.csv\t       fall_85_processed.csv\n",
            " fall_36_processed.csv\t       fall_86_processed.csv\n",
            " fall_37_processed.csv\t       fall_87_processed.csv\n",
            " fall_38_processed.csv\t       fall_88_processed.csv\n",
            " fall_39_processed.csv\t       fall_89_processed.csv\n",
            " fall_3_processed.csv\t       fall_8_processed.csv\n",
            " fall_40_processed.csv\t       fall_90_processed.csv\n",
            " fall_41_processed.csv\t       fall_91_processed.csv\n",
            " fall_42_processed.csv\t       fall_92_processed.csv\n",
            " fall_43_processed.csv\t       fall_93_processed.csv\n",
            " fall_44_processed.csv\t       fall_94_processed.csv\n",
            " fall_45_processed.csv\t       fall_95_processed.csv\n",
            " fall_46_processed.csv\t       fall_96_processed.csv\n",
            " fall_47_processed.csv\t       fall_97_processed.csv\n",
            " fall_48_processed.csv\t       fall_98_processed.csv\n",
            " fall_49_processed.csv\t       fall_99_processed.csv\n",
            " fall_4_processed.csv\t       fall_9_processed.csv\n",
            " fall_50_processed.csv\t       lstm.hd5\n",
            " fall_51_processed.csv\t      'lstm_predict (testing).ipynb'\n",
            " fall_52_processed.csv\t       lstm_train_fall.ipynb\n",
            " fall_53_processed.csv\t       lstm_train.ipynb\n",
            " fall_54_processed.csv\t       moving_turnleft_processed.csv\n",
            " fall_55_processed.csv\t       moving_turnright_processed.csv\n",
            " fall_56_processed.csv\n"
          ]
        }
      ]
    },
    {
      "cell_type": "code",
      "execution_count": null,
      "metadata": {
        "colab": {
          "base_uri": "https://localhost:8080/"
        },
        "id": "X2H4IUGtVh-q",
        "outputId": "d80e6234-c7ba-40a2-ff1e-0789a30e1c52"
      },
      "outputs": [
        {
          "output_type": "stream",
          "name": "stdout",
          "text": [
            "       accX  accY  accZ  accResultant   gyrX   gyrY   gyrZ  isFall\n",
            "0     -0.03  0.04  1.08          1.09 -14.96  -2.91 -13.61     1.0\n",
            "1     -0.02  0.03  1.10          1.10 -21.84  -7.23 -10.17     1.0\n",
            "2     -0.02  0.03  1.10          1.10 -23.29  -9.78  -6.98     1.0\n",
            "3     -0.03  0.02  1.10          1.11 -18.69 -12.22  -0.40     1.0\n",
            "4     -0.13 -0.01  1.12          1.13 -12.14 -14.72   4.77     1.0\n",
            "...     ...   ...   ...           ...    ...    ...    ...     ...\n",
            "10923  0.90  0.10  0.01          0.90  -0.07   0.08  -0.06     1.0\n",
            "10924  0.90  0.10  0.01          0.90  -0.05   0.11  -0.08     1.0\n",
            "10925  0.90  0.10  0.01          0.90  -0.04   0.08  -0.07     1.0\n",
            "10926  0.90  0.10  0.00          0.90  -0.10   0.08  -0.06     1.0\n",
            "10927  0.90  0.10  0.01          0.90  -0.06   0.12  -0.06     1.0\n",
            "\n",
            "[10928 rows x 8 columns]\n"
          ]
        }
      ],
      "source": [
        "dataframe = pd.read_csv('moving_turnright_processed.csv') # train on moving_turnleft_processed.csv, moving_turnright_processed.csv separately\n",
        "dataframe = dataframe.drop(columns=dataframe.columns[0], axis=1)\n",
        "print(dataframe)"
      ]
    },
    {
      "cell_type": "code",
      "execution_count": null,
      "metadata": {
        "colab": {
          "base_uri": "https://localhost:8080/"
        },
        "id": "aTbz0LK7Vh-t",
        "outputId": "fba205ae-c871-44f8-9ad0-dda65484a9cb"
      },
      "outputs": [
        {
          "output_type": "stream",
          "name": "stdout",
          "text": [
            "[[0.21604938 0.5952381  0.78756477 ... 0.56615171 0.23616987 0.29578568]\n",
            " [0.22222222 0.58333333 0.79792746 ... 0.54226697 0.21303486 0.32273226]\n",
            " [0.22222222 0.58333333 0.79792746 ... 0.53723312 0.19937878 0.34772051]\n",
            " ...\n",
            " [0.79012346 0.66666667 0.23316062 ... 0.61794827 0.2521823  0.40184866]\n",
            " [0.79012346 0.66666667 0.22797927 ... 0.61773998 0.2521823  0.40192699]\n",
            " [0.79012346 0.66666667 0.23316062 ... 0.61787884 0.25239651 0.40192699]]\n",
            "[[1.]\n",
            " [1.]\n",
            " [1.]\n",
            " ...\n",
            " [1.]\n",
            " [1.]\n",
            " [1.]]\n"
          ]
        }
      ],
      "source": [
        "from sklearn.preprocessing import MinMaxScaler\n",
        "\n",
        "dataset = dataframe.to_numpy()\n",
        "X = dataset[:, :-1]\n",
        "Y = dataset[:, -1:]\n",
        "\n",
        "scaler = MinMaxScaler(feature_range = (0, 1))\n",
        "# dataset = scaler.fit_transform(dataset)\n",
        "X = scaler.fit_transform(X)\n",
        "\n",
        "# print(dataset)\n",
        "print(X)\n",
        "print(Y)"
      ]
    },
    {
      "cell_type": "code",
      "execution_count": null,
      "metadata": {
        "id": "vc0lDgjjVh-u"
      },
      "outputs": [],
      "source": [
        "MODEL_NAME = 'lstm.hd5'\n",
        "savemodel = ModelCheckpoint(MODEL_NAME)"
      ]
    },
    {
      "cell_type": "code",
      "execution_count": null,
      "metadata": {
        "id": "4gjz0wBkVh-v"
      },
      "outputs": [],
      "source": [
        "\"\"\"\n",
        "Adjust these to control # of epochs, etc.\n",
        "\"\"\"\n",
        "batch_size = 1\n",
        "look_back = 10\n",
        "skip = 1\n",
        "hidden_size = 128\n",
        "num_epochs = 15\n",
        "TRAIN_PERCENT = 0.7\n",
        "\n",
        "# Set the random number seed so that we have reproducible results\n",
        "# numpy.random.seed(7)"
      ]
    },
    {
      "cell_type": "code",
      "execution_count": null,
      "metadata": {
        "id": "WWQzxPyBVh-v"
      },
      "outputs": [],
      "source": [
        "from keras.utils import to_categorical\n",
        "\n",
        "# Figure out how many vectors for training and how many for testing.\n",
        "\n",
        "train_size = int(len(dataset) * TRAIN_PERCENT)\n",
        "test_size = len(dataset) - train_size\n",
        "\n",
        "# Slice the dataset accordingly\n",
        "train, test  = dataset[:train_size], dataset[train_size:]\n",
        "\n",
        "# Generate the datasets with the given look_back.\n",
        "def create_dataset(dataset, look_back=look_back):\n",
        "    dataX, dataY= [], []\n",
        "\n",
        "    for i in range(len(dataset) - look_back - 1):\n",
        "        a = dataset[i:(i+look_back), 0:-1].flatten()\n",
        "        dataX.append(a)\n",
        "        dataY.append(dataset[i + look_back, -1])\n",
        "    return np.array(dataX), np.array(dataY)\n"
      ]
    },
    {
      "cell_type": "code",
      "execution_count": null,
      "metadata": {
        "id": "jCBB2Md6Vh-x"
      },
      "outputs": [],
      "source": [
        "trainX, trainY = create_dataset(train, look_back)\n",
        "testX, testY = create_dataset(test, look_back)\n",
        "trainX = np.reshape(trainX, (trainX.shape[0], trainX.shape[1], 1))\n",
        "testX = np.reshape(testX, (testX.shape[0], testX.shape[1], 1))"
      ]
    },
    {
      "cell_type": "code",
      "execution_count": null,
      "metadata": {
        "id": "SFNK_64iVh-x"
      },
      "outputs": [],
      "source": [
        "import os\n",
        "\n",
        "def build_model(model_name):\n",
        "    if os.path.exists(model_name):\n",
        "        model = load_model(model_name)\n",
        "    else:\n",
        "        model = Sequential()\n",
        "        model.add(LSTM(128, batch_input_shape=(batch_size, look_back*7, 1), stateful = True))\n",
        "        model.add(Dense(8, activation='softmax'))\n",
        "        model.compile(loss='sparse_categorical_crossentropy', optimizer='adam', metrics=['accuracy'])\n",
        "    \n",
        "    return model"
      ]
    },
    {
      "cell_type": "code",
      "execution_count": null,
      "metadata": {
        "scrolled": false,
        "colab": {
          "base_uri": "https://localhost:8080/"
        },
        "id": "3XRkFW71Vh-y",
        "outputId": "122e86a2-c75c-46a7-809b-9a8f120c24ba"
      },
      "outputs": [
        {
          "output_type": "stream",
          "name": "stdout",
          "text": [
            "Iter: 1 of 150\n",
            "7636/7638 [============================>.] - ETA: 0s - loss: 4.8295 - accuracy: 0.5572"
          ]
        },
        {
          "output_type": "stream",
          "name": "stderr",
          "text": [
            "WARNING:absl:Found untraced functions such as lstm_cell_layer_call_fn, lstm_cell_layer_call_and_return_conditional_losses while saving (showing 2 of 2). These functions will not be directly callable after loading.\n"
          ]
        },
        {
          "output_type": "stream",
          "name": "stdout",
          "text": [
            "7638/7638 [==============================] - 68s 8ms/step - loss: 4.8284 - accuracy: 0.5573 - val_loss: 2.1536 - val_accuracy: 0.5946\n",
            "Iter: 2 of 150\n",
            "7637/7638 [============================>.] - ETA: 0s - loss: 2.4576 - accuracy: 0.5682"
          ]
        },
        {
          "output_type": "stream",
          "name": "stderr",
          "text": [
            "WARNING:absl:Found untraced functions such as lstm_cell_layer_call_fn, lstm_cell_layer_call_and_return_conditional_losses while saving (showing 2 of 2). These functions will not be directly callable after loading.\n"
          ]
        },
        {
          "output_type": "stream",
          "name": "stdout",
          "text": [
            "7638/7638 [==============================] - 60s 8ms/step - loss: 2.4573 - accuracy: 0.5682 - val_loss: 1.4982 - val_accuracy: 0.6059\n",
            "Iter: 3 of 150\n",
            "7631/7638 [============================>.] - ETA: 0s - loss: 1.6494 - accuracy: 0.6073"
          ]
        },
        {
          "output_type": "stream",
          "name": "stderr",
          "text": [
            "WARNING:absl:Found untraced functions such as lstm_cell_layer_call_fn, lstm_cell_layer_call_and_return_conditional_losses while saving (showing 2 of 2). These functions will not be directly callable after loading.\n"
          ]
        },
        {
          "output_type": "stream",
          "name": "stdout",
          "text": [
            "7638/7638 [==============================] - 69s 9ms/step - loss: 1.6481 - accuracy: 0.6076 - val_loss: 1.6751 - val_accuracy: 0.5793\n",
            "Iter: 4 of 150\n",
            "7630/7638 [============================>.] - ETA: 0s - loss: 1.2854 - accuracy: 0.6014"
          ]
        },
        {
          "output_type": "stream",
          "name": "stderr",
          "text": [
            "WARNING:absl:Found untraced functions such as lstm_cell_layer_call_fn, lstm_cell_layer_call_and_return_conditional_losses while saving (showing 2 of 2). These functions will not be directly callable after loading.\n"
          ]
        },
        {
          "output_type": "stream",
          "name": "stdout",
          "text": [
            "7638/7638 [==============================] - 70s 9ms/step - loss: 1.2844 - accuracy: 0.6016 - val_loss: 0.9955 - val_accuracy: 0.6255\n",
            "Iter: 5 of 150\n",
            "7631/7638 [============================>.] - ETA: 0s - loss: 0.9581 - accuracy: 0.6091"
          ]
        },
        {
          "output_type": "stream",
          "name": "stderr",
          "text": [
            "WARNING:absl:Found untraced functions such as lstm_cell_layer_call_fn, lstm_cell_layer_call_and_return_conditional_losses while saving (showing 2 of 2). These functions will not be directly callable after loading.\n"
          ]
        },
        {
          "output_type": "stream",
          "name": "stdout",
          "text": [
            "7638/7638 [==============================] - 60s 8ms/step - loss: 0.9577 - accuracy: 0.6092 - val_loss: 0.9327 - val_accuracy: 0.5970\n",
            "Iter: 6 of 150\n",
            "7630/7638 [============================>.] - ETA: 0s - loss: 0.7390 - accuracy: 0.6637"
          ]
        },
        {
          "output_type": "stream",
          "name": "stderr",
          "text": [
            "WARNING:absl:Found untraced functions such as lstm_cell_layer_call_fn, lstm_cell_layer_call_and_return_conditional_losses while saving (showing 2 of 2). These functions will not be directly callable after loading.\n"
          ]
        },
        {
          "output_type": "stream",
          "name": "stdout",
          "text": [
            "7638/7638 [==============================] - 60s 8ms/step - loss: 0.7385 - accuracy: 0.6639 - val_loss: 0.8400 - val_accuracy: 0.6652\n",
            "Iter: 7 of 150\n",
            "7630/7638 [============================>.] - ETA: 0s - loss: 0.6049 - accuracy: 0.7190"
          ]
        },
        {
          "output_type": "stream",
          "name": "stderr",
          "text": [
            "WARNING:absl:Found untraced functions such as lstm_cell_layer_call_fn, lstm_cell_layer_call_and_return_conditional_losses while saving (showing 2 of 2). These functions will not be directly callable after loading.\n"
          ]
        },
        {
          "output_type": "stream",
          "name": "stdout",
          "text": [
            "7638/7638 [==============================] - 62s 8ms/step - loss: 0.6049 - accuracy: 0.7190 - val_loss: 0.8238 - val_accuracy: 0.6732\n",
            "Iter: 8 of 150\n",
            "7637/7638 [============================>.] - ETA: 0s - loss: 0.5676 - accuracy: 0.7262"
          ]
        },
        {
          "output_type": "stream",
          "name": "stderr",
          "text": [
            "WARNING:absl:Found untraced functions such as lstm_cell_layer_call_fn, lstm_cell_layer_call_and_return_conditional_losses while saving (showing 2 of 2). These functions will not be directly callable after loading.\n"
          ]
        },
        {
          "output_type": "stream",
          "name": "stdout",
          "text": [
            "7638/7638 [==============================] - 59s 8ms/step - loss: 0.5676 - accuracy: 0.7262 - val_loss: 0.7272 - val_accuracy: 0.7065\n",
            "Iter: 9 of 150\n",
            "7631/7638 [============================>.] - ETA: 0s - loss: 0.5974 - accuracy: 0.7122"
          ]
        },
        {
          "output_type": "stream",
          "name": "stderr",
          "text": [
            "WARNING:absl:Found untraced functions such as lstm_cell_layer_call_fn, lstm_cell_layer_call_and_return_conditional_losses while saving (showing 2 of 2). These functions will not be directly callable after loading.\n"
          ]
        },
        {
          "output_type": "stream",
          "name": "stdout",
          "text": [
            "7638/7638 [==============================] - 59s 8ms/step - loss: 0.5973 - accuracy: 0.7121 - val_loss: 0.9192 - val_accuracy: 0.6778\n",
            "Iter: 10 of 150\n",
            "7630/7638 [============================>.] - ETA: 0s - loss: 0.5665 - accuracy: 0.7288"
          ]
        },
        {
          "output_type": "stream",
          "name": "stderr",
          "text": [
            "WARNING:absl:Found untraced functions such as lstm_cell_layer_call_fn, lstm_cell_layer_call_and_return_conditional_losses while saving (showing 2 of 2). These functions will not be directly callable after loading.\n"
          ]
        },
        {
          "output_type": "stream",
          "name": "stdout",
          "text": [
            "7638/7638 [==============================] - 59s 8ms/step - loss: 0.5663 - accuracy: 0.7291 - val_loss: 0.6381 - val_accuracy: 0.6971\n",
            "Iter: 11 of 150\n",
            "7634/7638 [============================>.] - ETA: 0s - loss: 0.5790 - accuracy: 0.7227"
          ]
        },
        {
          "output_type": "stream",
          "name": "stderr",
          "text": [
            "WARNING:absl:Found untraced functions such as lstm_cell_layer_call_fn, lstm_cell_layer_call_and_return_conditional_losses while saving (showing 2 of 2). These functions will not be directly callable after loading.\n"
          ]
        },
        {
          "output_type": "stream",
          "name": "stdout",
          "text": [
            "7638/7638 [==============================] - 60s 8ms/step - loss: 0.5789 - accuracy: 0.7227 - val_loss: 0.7992 - val_accuracy: 0.6077\n",
            "Iter: 12 of 150\n",
            "7637/7638 [============================>.] - ETA: 0s - loss: 0.7185 - accuracy: 0.7041"
          ]
        },
        {
          "output_type": "stream",
          "name": "stderr",
          "text": [
            "WARNING:absl:Found untraced functions such as lstm_cell_layer_call_fn, lstm_cell_layer_call_and_return_conditional_losses while saving (showing 2 of 2). These functions will not be directly callable after loading.\n"
          ]
        },
        {
          "output_type": "stream",
          "name": "stdout",
          "text": [
            "7638/7638 [==============================] - 68s 9ms/step - loss: 0.7185 - accuracy: 0.7041 - val_loss: 0.8754 - val_accuracy: 0.6781\n",
            "Iter: 13 of 150\n",
            "7631/7638 [============================>.] - ETA: 0s - loss: 0.7022 - accuracy: 0.7184"
          ]
        },
        {
          "output_type": "stream",
          "name": "stderr",
          "text": [
            "WARNING:absl:Found untraced functions such as lstm_cell_layer_call_fn, lstm_cell_layer_call_and_return_conditional_losses while saving (showing 2 of 2). These functions will not be directly callable after loading.\n"
          ]
        },
        {
          "output_type": "stream",
          "name": "stdout",
          "text": [
            "7638/7638 [==============================] - 69s 9ms/step - loss: 0.7019 - accuracy: 0.7185 - val_loss: 0.7748 - val_accuracy: 0.6882\n",
            "Iter: 14 of 150\n",
            "7636/7638 [============================>.] - ETA: 0s - loss: 0.6436 - accuracy: 0.7397"
          ]
        },
        {
          "output_type": "stream",
          "name": "stderr",
          "text": [
            "WARNING:absl:Found untraced functions such as lstm_cell_layer_call_fn, lstm_cell_layer_call_and_return_conditional_losses while saving (showing 2 of 2). These functions will not be directly callable after loading.\n"
          ]
        },
        {
          "output_type": "stream",
          "name": "stdout",
          "text": [
            "7638/7638 [==============================] - 70s 9ms/step - loss: 0.6437 - accuracy: 0.7396 - val_loss: 1.0068 - val_accuracy: 0.6111\n",
            "Iter: 15 of 150\n",
            "7635/7638 [============================>.] - ETA: 0s - loss: 0.5997 - accuracy: 0.7157"
          ]
        },
        {
          "output_type": "stream",
          "name": "stderr",
          "text": [
            "WARNING:absl:Found untraced functions such as lstm_cell_layer_call_fn, lstm_cell_layer_call_and_return_conditional_losses while saving (showing 2 of 2). These functions will not be directly callable after loading.\n"
          ]
        },
        {
          "output_type": "stream",
          "name": "stdout",
          "text": [
            "7638/7638 [==============================] - 68s 9ms/step - loss: 0.5996 - accuracy: 0.7158 - val_loss: 0.9740 - val_accuracy: 0.6245\n",
            "Iter: 16 of 150\n",
            "7634/7638 [============================>.] - ETA: 0s - loss: 0.8119 - accuracy: 0.6544"
          ]
        },
        {
          "output_type": "stream",
          "name": "stderr",
          "text": [
            "WARNING:absl:Found untraced functions such as lstm_cell_layer_call_fn, lstm_cell_layer_call_and_return_conditional_losses while saving (showing 2 of 2). These functions will not be directly callable after loading.\n"
          ]
        },
        {
          "output_type": "stream",
          "name": "stdout",
          "text": [
            "7638/7638 [==============================] - 59s 8ms/step - loss: 0.8117 - accuracy: 0.6545 - val_loss: 0.7217 - val_accuracy: 0.6900\n",
            "Iter: 17 of 150\n",
            "7633/7638 [============================>.] - ETA: 0s - loss: 0.6350 - accuracy: 0.7105"
          ]
        },
        {
          "output_type": "stream",
          "name": "stderr",
          "text": [
            "WARNING:absl:Found untraced functions such as lstm_cell_layer_call_fn, lstm_cell_layer_call_and_return_conditional_losses while saving (showing 2 of 2). These functions will not be directly callable after loading.\n"
          ]
        },
        {
          "output_type": "stream",
          "name": "stdout",
          "text": [
            "7638/7638 [==============================] - 60s 8ms/step - loss: 0.6350 - accuracy: 0.7103 - val_loss: 0.5828 - val_accuracy: 0.7414\n",
            "Iter: 18 of 150\n",
            "7631/7638 [============================>.] - ETA: 0s - loss: 0.6313 - accuracy: 0.6995"
          ]
        },
        {
          "output_type": "stream",
          "name": "stderr",
          "text": [
            "WARNING:absl:Found untraced functions such as lstm_cell_layer_call_fn, lstm_cell_layer_call_and_return_conditional_losses while saving (showing 2 of 2). These functions will not be directly callable after loading.\n"
          ]
        },
        {
          "output_type": "stream",
          "name": "stdout",
          "text": [
            "7638/7638 [==============================] - 69s 9ms/step - loss: 0.6314 - accuracy: 0.6995 - val_loss: 0.8008 - val_accuracy: 0.6496\n",
            "Iter: 19 of 150\n",
            "7638/7638 [==============================] - ETA: 0s - loss: 0.6076 - accuracy: 0.7168"
          ]
        },
        {
          "output_type": "stream",
          "name": "stderr",
          "text": [
            "WARNING:absl:Found untraced functions such as lstm_cell_layer_call_fn, lstm_cell_layer_call_and_return_conditional_losses while saving (showing 2 of 2). These functions will not be directly callable after loading.\n"
          ]
        },
        {
          "output_type": "stream",
          "name": "stdout",
          "text": [
            "7638/7638 [==============================] - 68s 9ms/step - loss: 0.6076 - accuracy: 0.7168 - val_loss: 0.7933 - val_accuracy: 0.6955\n",
            "Iter: 20 of 150\n",
            "7633/7638 [============================>.] - ETA: 0s - loss: 0.5647 - accuracy: 0.7233"
          ]
        },
        {
          "output_type": "stream",
          "name": "stderr",
          "text": [
            "WARNING:absl:Found untraced functions such as lstm_cell_layer_call_fn, lstm_cell_layer_call_and_return_conditional_losses while saving (showing 2 of 2). These functions will not be directly callable after loading.\n"
          ]
        },
        {
          "output_type": "stream",
          "name": "stdout",
          "text": [
            "7638/7638 [==============================] - 68s 9ms/step - loss: 0.5647 - accuracy: 0.7234 - val_loss: 0.7137 - val_accuracy: 0.6646\n",
            "Iter: 21 of 150\n",
            "7637/7638 [============================>.] - ETA: 0s - loss: 0.5134 - accuracy: 0.7585"
          ]
        },
        {
          "output_type": "stream",
          "name": "stderr",
          "text": [
            "WARNING:absl:Found untraced functions such as lstm_cell_layer_call_fn, lstm_cell_layer_call_and_return_conditional_losses while saving (showing 2 of 2). These functions will not be directly callable after loading.\n"
          ]
        },
        {
          "output_type": "stream",
          "name": "stdout",
          "text": [
            "7638/7638 [==============================] - 70s 9ms/step - loss: 0.5134 - accuracy: 0.7586 - val_loss: 0.7287 - val_accuracy: 0.7228\n",
            "Iter: 22 of 150\n",
            "7630/7638 [============================>.] - ETA: 0s - loss: 0.5342 - accuracy: 0.7473"
          ]
        },
        {
          "output_type": "stream",
          "name": "stderr",
          "text": [
            "WARNING:absl:Found untraced functions such as lstm_cell_layer_call_fn, lstm_cell_layer_call_and_return_conditional_losses while saving (showing 2 of 2). These functions will not be directly callable after loading.\n"
          ]
        },
        {
          "output_type": "stream",
          "name": "stdout",
          "text": [
            "7638/7638 [==============================] - 69s 9ms/step - loss: 0.5341 - accuracy: 0.7473 - val_loss: 0.9366 - val_accuracy: 0.6698\n",
            "Iter: 23 of 150\n",
            "7635/7638 [============================>.] - ETA: 0s - loss: 0.6998 - accuracy: 0.6901"
          ]
        },
        {
          "output_type": "stream",
          "name": "stderr",
          "text": [
            "WARNING:absl:Found untraced functions such as lstm_cell_layer_call_fn, lstm_cell_layer_call_and_return_conditional_losses while saving (showing 2 of 2). These functions will not be directly callable after loading.\n"
          ]
        },
        {
          "output_type": "stream",
          "name": "stdout",
          "text": [
            "7638/7638 [==============================] - 60s 8ms/step - loss: 0.6998 - accuracy: 0.6901 - val_loss: 0.8096 - val_accuracy: 0.6766\n",
            "Iter: 24 of 150\n",
            "7637/7638 [============================>.] - ETA: 0s - loss: 0.7099 - accuracy: 0.7144"
          ]
        },
        {
          "output_type": "stream",
          "name": "stderr",
          "text": [
            "WARNING:absl:Found untraced functions such as lstm_cell_layer_call_fn, lstm_cell_layer_call_and_return_conditional_losses while saving (showing 2 of 2). These functions will not be directly callable after loading.\n"
          ]
        },
        {
          "output_type": "stream",
          "name": "stdout",
          "text": [
            "7638/7638 [==============================] - 62s 8ms/step - loss: 0.7098 - accuracy: 0.7145 - val_loss: 0.7521 - val_accuracy: 0.7139\n",
            "Iter: 25 of 150\n",
            "7634/7638 [============================>.] - ETA: 0s - loss: 0.6474 - accuracy: 0.7190"
          ]
        },
        {
          "output_type": "stream",
          "name": "stderr",
          "text": [
            "WARNING:absl:Found untraced functions such as lstm_cell_layer_call_fn, lstm_cell_layer_call_and_return_conditional_losses while saving (showing 2 of 2). These functions will not be directly callable after loading.\n"
          ]
        },
        {
          "output_type": "stream",
          "name": "stdout",
          "text": [
            "7638/7638 [==============================] - 59s 8ms/step - loss: 0.6481 - accuracy: 0.7188 - val_loss: 0.7618 - val_accuracy: 0.6916\n",
            "Iter: 26 of 150\n",
            "7637/7638 [============================>.] - ETA: 0s - loss: 0.6244 - accuracy: 0.7156"
          ]
        },
        {
          "output_type": "stream",
          "name": "stderr",
          "text": [
            "WARNING:absl:Found untraced functions such as lstm_cell_layer_call_fn, lstm_cell_layer_call_and_return_conditional_losses while saving (showing 2 of 2). These functions will not be directly callable after loading.\n"
          ]
        },
        {
          "output_type": "stream",
          "name": "stdout",
          "text": [
            "7638/7638 [==============================] - 60s 8ms/step - loss: 0.6243 - accuracy: 0.7156 - val_loss: 0.9471 - val_accuracy: 0.6285\n",
            "Iter: 27 of 150\n",
            "7633/7638 [============================>.] - ETA: 0s - loss: 0.6584 - accuracy: 0.6934"
          ]
        },
        {
          "output_type": "stream",
          "name": "stderr",
          "text": [
            "WARNING:absl:Found untraced functions such as lstm_cell_layer_call_fn, lstm_cell_layer_call_and_return_conditional_losses while saving (showing 2 of 2). These functions will not be directly callable after loading.\n"
          ]
        },
        {
          "output_type": "stream",
          "name": "stdout",
          "text": [
            "7638/7638 [==============================] - 69s 9ms/step - loss: 0.6582 - accuracy: 0.6935 - val_loss: 0.9365 - val_accuracy: 0.6215\n",
            "Iter: 28 of 150\n",
            "7636/7638 [============================>.] - ETA: 0s - loss: 0.7346 - accuracy: 0.6675"
          ]
        },
        {
          "output_type": "stream",
          "name": "stderr",
          "text": [
            "WARNING:absl:Found untraced functions such as lstm_cell_layer_call_fn, lstm_cell_layer_call_and_return_conditional_losses while saving (showing 2 of 2). These functions will not be directly callable after loading.\n"
          ]
        },
        {
          "output_type": "stream",
          "name": "stdout",
          "text": [
            "7638/7638 [==============================] - 60s 8ms/step - loss: 0.7348 - accuracy: 0.6673 - val_loss: 0.9051 - val_accuracy: 0.6597\n",
            "Iter: 29 of 150\n",
            "7630/7638 [============================>.] - ETA: 0s - loss: 0.6903 - accuracy: 0.6889"
          ]
        },
        {
          "output_type": "stream",
          "name": "stderr",
          "text": [
            "WARNING:absl:Found untraced functions such as lstm_cell_layer_call_fn, lstm_cell_layer_call_and_return_conditional_losses while saving (showing 2 of 2). These functions will not be directly callable after loading.\n"
          ]
        },
        {
          "output_type": "stream",
          "name": "stdout",
          "text": [
            "7638/7638 [==============================] - 59s 8ms/step - loss: 0.6900 - accuracy: 0.6888 - val_loss: 0.7060 - val_accuracy: 0.6689\n",
            "Iter: 30 of 150\n",
            "7637/7638 [============================>.] - ETA: 0s - loss: 0.6755 - accuracy: 0.6886"
          ]
        },
        {
          "output_type": "stream",
          "name": "stderr",
          "text": [
            "WARNING:absl:Found untraced functions such as lstm_cell_layer_call_fn, lstm_cell_layer_call_and_return_conditional_losses while saving (showing 2 of 2). These functions will not be directly callable after loading.\n"
          ]
        },
        {
          "output_type": "stream",
          "name": "stdout",
          "text": [
            "7638/7638 [==============================] - 60s 8ms/step - loss: 0.6754 - accuracy: 0.6887 - val_loss: 1.1821 - val_accuracy: 0.6147\n",
            "Iter: 31 of 150\n",
            "7634/7638 [============================>.] - ETA: 0s - loss: 0.6533 - accuracy: 0.6848"
          ]
        },
        {
          "output_type": "stream",
          "name": "stderr",
          "text": [
            "WARNING:absl:Found untraced functions such as lstm_cell_layer_call_fn, lstm_cell_layer_call_and_return_conditional_losses while saving (showing 2 of 2). These functions will not be directly callable after loading.\n"
          ]
        },
        {
          "output_type": "stream",
          "name": "stdout",
          "text": [
            "7638/7638 [==============================] - 62s 8ms/step - loss: 0.6532 - accuracy: 0.6849 - val_loss: 0.6419 - val_accuracy: 0.7004\n",
            "Iter: 32 of 150\n",
            "7637/7638 [============================>.] - ETA: 0s - loss: 0.6999 - accuracy: 0.6508"
          ]
        },
        {
          "output_type": "stream",
          "name": "stderr",
          "text": [
            "WARNING:absl:Found untraced functions such as lstm_cell_layer_call_fn, lstm_cell_layer_call_and_return_conditional_losses while saving (showing 2 of 2). These functions will not be directly callable after loading.\n"
          ]
        },
        {
          "output_type": "stream",
          "name": "stdout",
          "text": [
            "7638/7638 [==============================] - 59s 8ms/step - loss: 0.7000 - accuracy: 0.6507 - val_loss: 0.7823 - val_accuracy: 0.6047\n",
            "Iter: 33 of 150\n",
            "7631/7638 [============================>.] - ETA: 0s - loss: 0.6743 - accuracy: 0.6812"
          ]
        },
        {
          "output_type": "stream",
          "name": "stderr",
          "text": [
            "WARNING:absl:Found untraced functions such as lstm_cell_layer_call_fn, lstm_cell_layer_call_and_return_conditional_losses while saving (showing 2 of 2). These functions will not be directly callable after loading.\n"
          ]
        },
        {
          "output_type": "stream",
          "name": "stdout",
          "text": [
            "7638/7638 [==============================] - 59s 8ms/step - loss: 0.6743 - accuracy: 0.6811 - val_loss: 0.7171 - val_accuracy: 0.6652\n",
            "Iter: 34 of 150\n",
            "7637/7638 [============================>.] - ETA: 0s - loss: 0.6234 - accuracy: 0.6961"
          ]
        },
        {
          "output_type": "stream",
          "name": "stderr",
          "text": [
            "WARNING:absl:Found untraced functions such as lstm_cell_layer_call_fn, lstm_cell_layer_call_and_return_conditional_losses while saving (showing 2 of 2). These functions will not be directly callable after loading.\n"
          ]
        },
        {
          "output_type": "stream",
          "name": "stdout",
          "text": [
            "7638/7638 [==============================] - 69s 9ms/step - loss: 0.6234 - accuracy: 0.6961 - val_loss: 0.7183 - val_accuracy: 0.6334\n",
            "Iter: 35 of 150\n",
            "7633/7638 [============================>.] - ETA: 0s - loss: 0.6633 - accuracy: 0.6712"
          ]
        },
        {
          "output_type": "stream",
          "name": "stderr",
          "text": [
            "WARNING:absl:Found untraced functions such as lstm_cell_layer_call_fn, lstm_cell_layer_call_and_return_conditional_losses while saving (showing 2 of 2). These functions will not be directly callable after loading.\n"
          ]
        },
        {
          "output_type": "stream",
          "name": "stdout",
          "text": [
            "7638/7638 [==============================] - 60s 8ms/step - loss: 0.6634 - accuracy: 0.6711 - val_loss: 0.7338 - val_accuracy: 0.6680\n",
            "Iter: 36 of 150\n",
            "7634/7638 [============================>.] - ETA: 0s - loss: 0.7522 - accuracy: 0.6392"
          ]
        },
        {
          "output_type": "stream",
          "name": "stderr",
          "text": [
            "WARNING:absl:Found untraced functions such as lstm_cell_layer_call_fn, lstm_cell_layer_call_and_return_conditional_losses while saving (showing 2 of 2). These functions will not be directly callable after loading.\n"
          ]
        },
        {
          "output_type": "stream",
          "name": "stdout",
          "text": [
            "7638/7638 [==============================] - 68s 9ms/step - loss: 0.7521 - accuracy: 0.6393 - val_loss: 0.7438 - val_accuracy: 0.6405\n",
            "Iter: 37 of 150\n",
            "7632/7638 [============================>.] - ETA: 0s - loss: 0.7025 - accuracy: 0.6473"
          ]
        },
        {
          "output_type": "stream",
          "name": "stderr",
          "text": [
            "WARNING:absl:Found untraced functions such as lstm_cell_layer_call_fn, lstm_cell_layer_call_and_return_conditional_losses while saving (showing 2 of 2). These functions will not be directly callable after loading.\n"
          ]
        },
        {
          "output_type": "stream",
          "name": "stdout",
          "text": [
            "7638/7638 [==============================] - 69s 9ms/step - loss: 0.7026 - accuracy: 0.6473 - val_loss: 0.7185 - val_accuracy: 0.6643\n",
            "Iter: 38 of 150\n",
            "7636/7638 [============================>.] - ETA: 0s - loss: 0.7121 - accuracy: 0.6595"
          ]
        },
        {
          "output_type": "stream",
          "name": "stderr",
          "text": [
            "WARNING:absl:Found untraced functions such as lstm_cell_layer_call_fn, lstm_cell_layer_call_and_return_conditional_losses while saving (showing 2 of 2). These functions will not be directly callable after loading.\n"
          ]
        },
        {
          "output_type": "stream",
          "name": "stdout",
          "text": [
            "7638/7638 [==============================] - 61s 8ms/step - loss: 0.7119 - accuracy: 0.6596 - val_loss: 0.7441 - val_accuracy: 0.6300\n",
            "Iter: 39 of 150\n",
            "7634/7638 [============================>.] - ETA: 0s - loss: 0.6877 - accuracy: 0.6657"
          ]
        },
        {
          "output_type": "stream",
          "name": "stderr",
          "text": [
            "WARNING:absl:Found untraced functions such as lstm_cell_layer_call_fn, lstm_cell_layer_call_and_return_conditional_losses while saving (showing 2 of 2). These functions will not be directly callable after loading.\n"
          ]
        },
        {
          "output_type": "stream",
          "name": "stdout",
          "text": [
            "7638/7638 [==============================] - 60s 8ms/step - loss: 0.6877 - accuracy: 0.6656 - val_loss: 0.7082 - val_accuracy: 0.6640\n",
            "Iter: 40 of 150\n",
            "7633/7638 [============================>.] - ETA: 0s - loss: 0.6626 - accuracy: 0.6674"
          ]
        },
        {
          "output_type": "stream",
          "name": "stderr",
          "text": [
            "WARNING:absl:Found untraced functions such as lstm_cell_layer_call_fn, lstm_cell_layer_call_and_return_conditional_losses while saving (showing 2 of 2). These functions will not be directly callable after loading.\n"
          ]
        },
        {
          "output_type": "stream",
          "name": "stdout",
          "text": [
            "7638/7638 [==============================] - 68s 9ms/step - loss: 0.6626 - accuracy: 0.6672 - val_loss: 0.7346 - val_accuracy: 0.6490\n",
            "Iter: 41 of 150\n",
            "7637/7638 [============================>.] - ETA: 0s - loss: 0.6552 - accuracy: 0.6747"
          ]
        },
        {
          "output_type": "stream",
          "name": "stderr",
          "text": [
            "WARNING:absl:Found untraced functions such as lstm_cell_layer_call_fn, lstm_cell_layer_call_and_return_conditional_losses while saving (showing 2 of 2). These functions will not be directly callable after loading.\n"
          ]
        },
        {
          "output_type": "stream",
          "name": "stdout",
          "text": [
            "7638/7638 [==============================] - 61s 8ms/step - loss: 0.6552 - accuracy: 0.6748 - val_loss: 0.7248 - val_accuracy: 0.6542\n",
            "Iter: 42 of 150\n",
            "7637/7638 [============================>.] - ETA: 0s - loss: 0.6553 - accuracy: 0.6814"
          ]
        },
        {
          "output_type": "stream",
          "name": "stderr",
          "text": [
            "WARNING:absl:Found untraced functions such as lstm_cell_layer_call_fn, lstm_cell_layer_call_and_return_conditional_losses while saving (showing 2 of 2). These functions will not be directly callable after loading.\n"
          ]
        },
        {
          "output_type": "stream",
          "name": "stdout",
          "text": [
            "7638/7638 [==============================] - 68s 9ms/step - loss: 0.6552 - accuracy: 0.6815 - val_loss: 0.7307 - val_accuracy: 0.6398\n",
            "Iter: 43 of 150\n",
            "7630/7638 [============================>.] - ETA: 0s - loss: 0.6647 - accuracy: 0.6702"
          ]
        },
        {
          "output_type": "stream",
          "name": "stderr",
          "text": [
            "WARNING:absl:Found untraced functions such as lstm_cell_layer_call_fn, lstm_cell_layer_call_and_return_conditional_losses while saving (showing 2 of 2). These functions will not be directly callable after loading.\n"
          ]
        },
        {
          "output_type": "stream",
          "name": "stdout",
          "text": [
            "7638/7638 [==============================] - 68s 9ms/step - loss: 0.6647 - accuracy: 0.6702 - val_loss: 0.6479 - val_accuracy: 0.6870\n",
            "Iter: 44 of 150\n",
            "7634/7638 [============================>.] - ETA: 0s - loss: 0.6272 - accuracy: 0.6873"
          ]
        },
        {
          "output_type": "stream",
          "name": "stderr",
          "text": [
            "WARNING:absl:Found untraced functions such as lstm_cell_layer_call_fn, lstm_cell_layer_call_and_return_conditional_losses while saving (showing 2 of 2). These functions will not be directly callable after loading.\n"
          ]
        },
        {
          "output_type": "stream",
          "name": "stdout",
          "text": [
            "7638/7638 [==============================] - 60s 8ms/step - loss: 0.6272 - accuracy: 0.6874 - val_loss: 0.7764 - val_accuracy: 0.6450\n",
            "Iter: 45 of 150\n",
            "7632/7638 [============================>.] - ETA: 0s - loss: 0.6773 - accuracy: 0.6787"
          ]
        },
        {
          "output_type": "stream",
          "name": "stderr",
          "text": [
            "WARNING:absl:Found untraced functions such as lstm_cell_layer_call_fn, lstm_cell_layer_call_and_return_conditional_losses while saving (showing 2 of 2). These functions will not be directly callable after loading.\n"
          ]
        },
        {
          "output_type": "stream",
          "name": "stdout",
          "text": [
            "7638/7638 [==============================] - 61s 8ms/step - loss: 0.6773 - accuracy: 0.6787 - val_loss: 1.0935 - val_accuracy: 0.6147\n",
            "Iter: 46 of 150\n",
            "7637/7638 [============================>.] - ETA: 0s - loss: 0.6717 - accuracy: 0.6492"
          ]
        },
        {
          "output_type": "stream",
          "name": "stderr",
          "text": [
            "WARNING:absl:Found untraced functions such as lstm_cell_layer_call_fn, lstm_cell_layer_call_and_return_conditional_losses while saving (showing 2 of 2). These functions will not be directly callable after loading.\n"
          ]
        },
        {
          "output_type": "stream",
          "name": "stdout",
          "text": [
            "7638/7638 [==============================] - 59s 8ms/step - loss: 0.6717 - accuracy: 0.6493 - val_loss: 0.7479 - val_accuracy: 0.6567\n",
            "Iter: 47 of 150\n",
            "7629/7638 [============================>.] - ETA: 0s - loss: 0.6585 - accuracy: 0.6596"
          ]
        },
        {
          "output_type": "stream",
          "name": "stderr",
          "text": [
            "WARNING:absl:Found untraced functions such as lstm_cell_layer_call_fn, lstm_cell_layer_call_and_return_conditional_losses while saving (showing 2 of 2). These functions will not be directly callable after loading.\n"
          ]
        },
        {
          "output_type": "stream",
          "name": "stdout",
          "text": [
            "7638/7638 [==============================] - 60s 8ms/step - loss: 0.6587 - accuracy: 0.6596 - val_loss: 0.6560 - val_accuracy: 0.6885\n",
            "Iter: 48 of 150\n",
            "7636/7638 [============================>.] - ETA: 0s - loss: 0.6286 - accuracy: 0.6755"
          ]
        },
        {
          "output_type": "stream",
          "name": "stderr",
          "text": [
            "WARNING:absl:Found untraced functions such as lstm_cell_layer_call_fn, lstm_cell_layer_call_and_return_conditional_losses while saving (showing 2 of 2). These functions will not be directly callable after loading.\n"
          ]
        },
        {
          "output_type": "stream",
          "name": "stdout",
          "text": [
            "7638/7638 [==============================] - 61s 8ms/step - loss: 0.6285 - accuracy: 0.6756 - val_loss: 0.6953 - val_accuracy: 0.6573\n",
            "Iter: 49 of 150\n",
            "7633/7638 [============================>.] - ETA: 0s - loss: 0.5995 - accuracy: 0.6964"
          ]
        },
        {
          "output_type": "stream",
          "name": "stderr",
          "text": [
            "WARNING:absl:Found untraced functions such as lstm_cell_layer_call_fn, lstm_cell_layer_call_and_return_conditional_losses while saving (showing 2 of 2). These functions will not be directly callable after loading.\n"
          ]
        },
        {
          "output_type": "stream",
          "name": "stdout",
          "text": [
            "7638/7638 [==============================] - 60s 8ms/step - loss: 0.5994 - accuracy: 0.6964 - val_loss: 0.7337 - val_accuracy: 0.6294\n",
            "Iter: 50 of 150\n",
            "7632/7638 [============================>.] - ETA: 0s - loss: 0.5897 - accuracy: 0.7014"
          ]
        },
        {
          "output_type": "stream",
          "name": "stderr",
          "text": [
            "WARNING:absl:Found untraced functions such as lstm_cell_layer_call_fn, lstm_cell_layer_call_and_return_conditional_losses while saving (showing 2 of 2). These functions will not be directly callable after loading.\n"
          ]
        },
        {
          "output_type": "stream",
          "name": "stdout",
          "text": [
            "7638/7638 [==============================] - 68s 9ms/step - loss: 0.5896 - accuracy: 0.7015 - val_loss: 0.8105 - val_accuracy: 0.6521\n",
            "Iter: 51 of 150\n",
            "7636/7638 [============================>.] - ETA: 0s - loss: 0.6458 - accuracy: 0.6811"
          ]
        },
        {
          "output_type": "stream",
          "name": "stderr",
          "text": [
            "WARNING:absl:Found untraced functions such as lstm_cell_layer_call_fn, lstm_cell_layer_call_and_return_conditional_losses while saving (showing 2 of 2). These functions will not be directly callable after loading.\n"
          ]
        },
        {
          "output_type": "stream",
          "name": "stdout",
          "text": [
            "7638/7638 [==============================] - 69s 9ms/step - loss: 0.6461 - accuracy: 0.6809 - val_loss: 1.0414 - val_accuracy: 0.6294\n",
            "Iter: 52 of 150\n",
            "7634/7638 [============================>.] - ETA: 0s - loss: 0.5723 - accuracy: 0.7122"
          ]
        },
        {
          "output_type": "stream",
          "name": "stderr",
          "text": [
            "WARNING:absl:Found untraced functions such as lstm_cell_layer_call_fn, lstm_cell_layer_call_and_return_conditional_losses while saving (showing 2 of 2). These functions will not be directly callable after loading.\n"
          ]
        },
        {
          "output_type": "stream",
          "name": "stdout",
          "text": [
            "7638/7638 [==============================] - 60s 8ms/step - loss: 0.5725 - accuracy: 0.7120 - val_loss: 1.0360 - val_accuracy: 0.5912\n",
            "Iter: 53 of 150\n",
            "7634/7638 [============================>.] - ETA: 0s - loss: 0.5691 - accuracy: 0.7222"
          ]
        },
        {
          "output_type": "stream",
          "name": "stderr",
          "text": [
            "WARNING:absl:Found untraced functions such as lstm_cell_layer_call_fn, lstm_cell_layer_call_and_return_conditional_losses while saving (showing 2 of 2). These functions will not be directly callable after loading.\n"
          ]
        },
        {
          "output_type": "stream",
          "name": "stdout",
          "text": [
            "7638/7638 [==============================] - 60s 8ms/step - loss: 0.5689 - accuracy: 0.7223 - val_loss: 1.4239 - val_accuracy: 0.6013\n",
            "Iter: 54 of 150\n",
            "7631/7638 [============================>.] - ETA: 0s - loss: 0.6003 - accuracy: 0.7045"
          ]
        },
        {
          "output_type": "stream",
          "name": "stderr",
          "text": [
            "WARNING:absl:Found untraced functions such as lstm_cell_layer_call_fn, lstm_cell_layer_call_and_return_conditional_losses while saving (showing 2 of 2). These functions will not be directly callable after loading.\n"
          ]
        },
        {
          "output_type": "stream",
          "name": "stdout",
          "text": [
            "7638/7638 [==============================] - 60s 8ms/step - loss: 0.6000 - accuracy: 0.7048 - val_loss: 0.7328 - val_accuracy: 0.6506\n",
            "Iter: 55 of 150\n",
            "7637/7638 [============================>.] - ETA: 0s - loss: 0.5702 - accuracy: 0.7325"
          ]
        },
        {
          "output_type": "stream",
          "name": "stderr",
          "text": [
            "WARNING:absl:Found untraced functions such as lstm_cell_layer_call_fn, lstm_cell_layer_call_and_return_conditional_losses while saving (showing 2 of 2). These functions will not be directly callable after loading.\n"
          ]
        },
        {
          "output_type": "stream",
          "name": "stdout",
          "text": [
            "7638/7638 [==============================] - 70s 9ms/step - loss: 0.5702 - accuracy: 0.7325 - val_loss: 1.0301 - val_accuracy: 0.6698\n",
            "Iter: 56 of 150\n",
            "7636/7638 [============================>.] - ETA: 0s - loss: 0.6028 - accuracy: 0.7192"
          ]
        },
        {
          "output_type": "stream",
          "name": "stderr",
          "text": [
            "WARNING:absl:Found untraced functions such as lstm_cell_layer_call_fn, lstm_cell_layer_call_and_return_conditional_losses while saving (showing 2 of 2). These functions will not be directly callable after loading.\n"
          ]
        },
        {
          "output_type": "stream",
          "name": "stdout",
          "text": [
            "7638/7638 [==============================] - 69s 9ms/step - loss: 0.6030 - accuracy: 0.7190 - val_loss: 0.8551 - val_accuracy: 0.6772\n",
            "Iter: 57 of 150\n",
            "7632/7638 [============================>.] - ETA: 0s - loss: 0.5541 - accuracy: 0.7528"
          ]
        },
        {
          "output_type": "stream",
          "name": "stderr",
          "text": [
            "WARNING:absl:Found untraced functions such as lstm_cell_layer_call_fn, lstm_cell_layer_call_and_return_conditional_losses while saving (showing 2 of 2). These functions will not be directly callable after loading.\n"
          ]
        },
        {
          "output_type": "stream",
          "name": "stdout",
          "text": [
            "7638/7638 [==============================] - 60s 8ms/step - loss: 0.5540 - accuracy: 0.7527 - val_loss: 0.6056 - val_accuracy: 0.7255\n",
            "Iter: 58 of 150\n",
            "7633/7638 [============================>.] - ETA: 0s - loss: 0.5697 - accuracy: 0.7292"
          ]
        },
        {
          "output_type": "stream",
          "name": "stderr",
          "text": [
            "WARNING:absl:Found untraced functions such as lstm_cell_layer_call_fn, lstm_cell_layer_call_and_return_conditional_losses while saving (showing 2 of 2). These functions will not be directly callable after loading.\n"
          ]
        },
        {
          "output_type": "stream",
          "name": "stdout",
          "text": [
            "7638/7638 [==============================] - 62s 8ms/step - loss: 0.5699 - accuracy: 0.7291 - val_loss: 0.8068 - val_accuracy: 0.6374\n",
            "Iter: 59 of 150\n",
            "7633/7638 [============================>.] - ETA: 0s - loss: 0.5487 - accuracy: 0.7460"
          ]
        },
        {
          "output_type": "stream",
          "name": "stderr",
          "text": [
            "WARNING:absl:Found untraced functions such as lstm_cell_layer_call_fn, lstm_cell_layer_call_and_return_conditional_losses while saving (showing 2 of 2). These functions will not be directly callable after loading.\n"
          ]
        },
        {
          "output_type": "stream",
          "name": "stdout",
          "text": [
            "7638/7638 [==============================] - 60s 8ms/step - loss: 0.5485 - accuracy: 0.7461 - val_loss: 0.9182 - val_accuracy: 0.6398\n",
            "Iter: 60 of 150\n",
            "7631/7638 [============================>.] - ETA: 0s - loss: 0.5667 - accuracy: 0.7264"
          ]
        },
        {
          "output_type": "stream",
          "name": "stderr",
          "text": [
            "WARNING:absl:Found untraced functions such as lstm_cell_layer_call_fn, lstm_cell_layer_call_and_return_conditional_losses while saving (showing 2 of 2). These functions will not be directly callable after loading.\n"
          ]
        },
        {
          "output_type": "stream",
          "name": "stdout",
          "text": [
            "7638/7638 [==============================] - 60s 8ms/step - loss: 0.5666 - accuracy: 0.7265 - val_loss: 0.6514 - val_accuracy: 0.6839\n",
            "Iter: 61 of 150\n",
            "7630/7638 [============================>.] - ETA: 0s - loss: 0.6762 - accuracy: 0.6984"
          ]
        },
        {
          "output_type": "stream",
          "name": "stderr",
          "text": [
            "WARNING:absl:Found untraced functions such as lstm_cell_layer_call_fn, lstm_cell_layer_call_and_return_conditional_losses while saving (showing 2 of 2). These functions will not be directly callable after loading.\n"
          ]
        },
        {
          "output_type": "stream",
          "name": "stdout",
          "text": [
            "7638/7638 [==============================] - 59s 8ms/step - loss: 0.6761 - accuracy: 0.6985 - val_loss: 0.9979 - val_accuracy: 0.6135\n",
            "Iter: 62 of 150\n",
            "7634/7638 [============================>.] - ETA: 0s - loss: 0.6648 - accuracy: 0.7049"
          ]
        },
        {
          "output_type": "stream",
          "name": "stderr",
          "text": [
            "WARNING:absl:Found untraced functions such as lstm_cell_layer_call_fn, lstm_cell_layer_call_and_return_conditional_losses while saving (showing 2 of 2). These functions will not be directly callable after loading.\n"
          ]
        },
        {
          "output_type": "stream",
          "name": "stdout",
          "text": [
            "7638/7638 [==============================] - 61s 8ms/step - loss: 0.6646 - accuracy: 0.7050 - val_loss: 0.8460 - val_accuracy: 0.6383\n",
            "Iter: 63 of 150\n",
            "7633/7638 [============================>.] - ETA: 0s - loss: 0.6393 - accuracy: 0.6980"
          ]
        },
        {
          "output_type": "stream",
          "name": "stderr",
          "text": [
            "WARNING:absl:Found untraced functions such as lstm_cell_layer_call_fn, lstm_cell_layer_call_and_return_conditional_losses while saving (showing 2 of 2). These functions will not be directly callable after loading.\n"
          ]
        },
        {
          "output_type": "stream",
          "name": "stdout",
          "text": [
            "7638/7638 [==============================] - 60s 8ms/step - loss: 0.6403 - accuracy: 0.6978 - val_loss: 0.9003 - val_accuracy: 0.6475\n",
            "Iter: 64 of 150\n",
            "7632/7638 [============================>.] - ETA: 0s - loss: 0.6334 - accuracy: 0.6946"
          ]
        },
        {
          "output_type": "stream",
          "name": "stderr",
          "text": [
            "WARNING:absl:Found untraced functions such as lstm_cell_layer_call_fn, lstm_cell_layer_call_and_return_conditional_losses while saving (showing 2 of 2). These functions will not be directly callable after loading.\n"
          ]
        },
        {
          "output_type": "stream",
          "name": "stdout",
          "text": [
            "7638/7638 [==============================] - 69s 9ms/step - loss: 0.6333 - accuracy: 0.6947 - val_loss: 0.8847 - val_accuracy: 0.6089\n",
            "Iter: 65 of 150\n",
            "7636/7638 [============================>.] - ETA: 0s - loss: 0.6357 - accuracy: 0.6828"
          ]
        },
        {
          "output_type": "stream",
          "name": "stderr",
          "text": [
            "WARNING:absl:Found untraced functions such as lstm_cell_layer_call_fn, lstm_cell_layer_call_and_return_conditional_losses while saving (showing 2 of 2). These functions will not be directly callable after loading.\n"
          ]
        },
        {
          "output_type": "stream",
          "name": "stdout",
          "text": [
            "7638/7638 [==============================] - 62s 8ms/step - loss: 0.6356 - accuracy: 0.6829 - val_loss: 0.7177 - val_accuracy: 0.6190\n",
            "Iter: 66 of 150\n",
            "7634/7638 [============================>.] - ETA: 0s - loss: 0.6404 - accuracy: 0.6800"
          ]
        },
        {
          "output_type": "stream",
          "name": "stderr",
          "text": [
            "WARNING:absl:Found untraced functions such as lstm_cell_layer_call_fn, lstm_cell_layer_call_and_return_conditional_losses while saving (showing 2 of 2). These functions will not be directly callable after loading.\n"
          ]
        },
        {
          "output_type": "stream",
          "name": "stdout",
          "text": [
            "7638/7638 [==============================] - 69s 9ms/step - loss: 0.6404 - accuracy: 0.6800 - val_loss: 0.9249 - val_accuracy: 0.6040\n",
            "Iter: 67 of 150\n",
            "7635/7638 [============================>.] - ETA: 0s - loss: 0.6155 - accuracy: 0.6909"
          ]
        },
        {
          "output_type": "stream",
          "name": "stderr",
          "text": [
            "WARNING:absl:Found untraced functions such as lstm_cell_layer_call_fn, lstm_cell_layer_call_and_return_conditional_losses while saving (showing 2 of 2). These functions will not be directly callable after loading.\n"
          ]
        },
        {
          "output_type": "stream",
          "name": "stdout",
          "text": [
            "7638/7638 [==============================] - 68s 9ms/step - loss: 0.6154 - accuracy: 0.6910 - val_loss: 0.7860 - val_accuracy: 0.6117\n",
            "Iter: 68 of 150\n",
            "7635/7638 [============================>.] - ETA: 0s - loss: 0.5917 - accuracy: 0.7119"
          ]
        },
        {
          "output_type": "stream",
          "name": "stderr",
          "text": [
            "WARNING:absl:Found untraced functions such as lstm_cell_layer_call_fn, lstm_cell_layer_call_and_return_conditional_losses while saving (showing 2 of 2). These functions will not be directly callable after loading.\n"
          ]
        },
        {
          "output_type": "stream",
          "name": "stdout",
          "text": [
            "7638/7638 [==============================] - 69s 9ms/step - loss: 0.5916 - accuracy: 0.7120 - val_loss: 0.7177 - val_accuracy: 0.6460\n",
            "Iter: 69 of 150\n",
            "7636/7638 [============================>.] - ETA: 0s - loss: 0.6404 - accuracy: 0.6679"
          ]
        },
        {
          "output_type": "stream",
          "name": "stderr",
          "text": [
            "WARNING:absl:Found untraced functions such as lstm_cell_layer_call_fn, lstm_cell_layer_call_and_return_conditional_losses while saving (showing 2 of 2). These functions will not be directly callable after loading.\n"
          ]
        },
        {
          "output_type": "stream",
          "name": "stdout",
          "text": [
            "7638/7638 [==============================] - 61s 8ms/step - loss: 0.6403 - accuracy: 0.6680 - val_loss: 0.7568 - val_accuracy: 0.6294\n",
            "Iter: 70 of 150\n",
            "7633/7638 [============================>.] - ETA: 0s - loss: 0.6359 - accuracy: 0.6853"
          ]
        },
        {
          "output_type": "stream",
          "name": "stderr",
          "text": [
            "WARNING:absl:Found untraced functions such as lstm_cell_layer_call_fn, lstm_cell_layer_call_and_return_conditional_losses while saving (showing 2 of 2). These functions will not be directly callable after loading.\n"
          ]
        },
        {
          "output_type": "stream",
          "name": "stdout",
          "text": [
            "7638/7638 [==============================] - 61s 8ms/step - loss: 0.6359 - accuracy: 0.6854 - val_loss: 0.9103 - val_accuracy: 0.5667\n",
            "Iter: 71 of 150\n",
            "7635/7638 [============================>.] - ETA: 0s - loss: 0.7033 - accuracy: 0.6485"
          ]
        },
        {
          "output_type": "stream",
          "name": "stderr",
          "text": [
            "WARNING:absl:Found untraced functions such as lstm_cell_layer_call_fn, lstm_cell_layer_call_and_return_conditional_losses while saving (showing 2 of 2). These functions will not be directly callable after loading.\n"
          ]
        },
        {
          "output_type": "stream",
          "name": "stdout",
          "text": [
            "7638/7638 [==============================] - 60s 8ms/step - loss: 0.7032 - accuracy: 0.6485 - val_loss: 0.8051 - val_accuracy: 0.6478\n",
            "Iter: 72 of 150\n",
            "7634/7638 [============================>.] - ETA: 0s - loss: 0.6270 - accuracy: 0.6742"
          ]
        },
        {
          "output_type": "stream",
          "name": "stderr",
          "text": [
            "WARNING:absl:Found untraced functions such as lstm_cell_layer_call_fn, lstm_cell_layer_call_and_return_conditional_losses while saving (showing 2 of 2). These functions will not be directly callable after loading.\n"
          ]
        },
        {
          "output_type": "stream",
          "name": "stdout",
          "text": [
            "7638/7638 [==============================] - 62s 8ms/step - loss: 0.6269 - accuracy: 0.6743 - val_loss: 0.6838 - val_accuracy: 0.6588\n",
            "Iter: 73 of 150\n",
            "7631/7638 [============================>.] - ETA: 0s - loss: 0.6434 - accuracy: 0.6901"
          ]
        },
        {
          "output_type": "stream",
          "name": "stderr",
          "text": [
            "WARNING:absl:Found untraced functions such as lstm_cell_layer_call_fn, lstm_cell_layer_call_and_return_conditional_losses while saving (showing 2 of 2). These functions will not be directly callable after loading.\n"
          ]
        },
        {
          "output_type": "stream",
          "name": "stdout",
          "text": [
            "7638/7638 [==============================] - 68s 9ms/step - loss: 0.6436 - accuracy: 0.6900 - val_loss: 0.6869 - val_accuracy: 0.6248\n",
            "Iter: 74 of 150\n",
            "7636/7638 [============================>.] - ETA: 0s - loss: 0.6440 - accuracy: 0.6713"
          ]
        },
        {
          "output_type": "stream",
          "name": "stderr",
          "text": [
            "WARNING:absl:Found untraced functions such as lstm_cell_layer_call_fn, lstm_cell_layer_call_and_return_conditional_losses while saving (showing 2 of 2). These functions will not be directly callable after loading.\n"
          ]
        },
        {
          "output_type": "stream",
          "name": "stdout",
          "text": [
            "7638/7638 [==============================] - 69s 9ms/step - loss: 0.6440 - accuracy: 0.6712 - val_loss: 0.9208 - val_accuracy: 0.6080\n",
            "Iter: 75 of 150\n",
            "7631/7638 [============================>.] - ETA: 0s - loss: 0.6608 - accuracy: 0.6706"
          ]
        },
        {
          "output_type": "stream",
          "name": "stderr",
          "text": [
            "WARNING:absl:Found untraced functions such as lstm_cell_layer_call_fn, lstm_cell_layer_call_and_return_conditional_losses while saving (showing 2 of 2). These functions will not be directly callable after loading.\n"
          ]
        },
        {
          "output_type": "stream",
          "name": "stdout",
          "text": [
            "7638/7638 [==============================] - 61s 8ms/step - loss: 0.6608 - accuracy: 0.6706 - val_loss: 0.6797 - val_accuracy: 0.6720\n",
            "Iter: 76 of 150\n",
            "7636/7638 [============================>.] - ETA: 0s - loss: 0.6307 - accuracy: 0.6737"
          ]
        },
        {
          "output_type": "stream",
          "name": "stderr",
          "text": [
            "WARNING:absl:Found untraced functions such as lstm_cell_layer_call_fn, lstm_cell_layer_call_and_return_conditional_losses while saving (showing 2 of 2). These functions will not be directly callable after loading.\n"
          ]
        },
        {
          "output_type": "stream",
          "name": "stdout",
          "text": [
            "7638/7638 [==============================] - 70s 9ms/step - loss: 0.6306 - accuracy: 0.6737 - val_loss: 0.8008 - val_accuracy: 0.6613\n",
            "Iter: 77 of 150\n",
            "7632/7638 [============================>.] - ETA: 0s - loss: 0.6396 - accuracy: 0.6783"
          ]
        },
        {
          "output_type": "stream",
          "name": "stderr",
          "text": [
            "WARNING:absl:Found untraced functions such as lstm_cell_layer_call_fn, lstm_cell_layer_call_and_return_conditional_losses while saving (showing 2 of 2). These functions will not be directly callable after loading.\n"
          ]
        },
        {
          "output_type": "stream",
          "name": "stdout",
          "text": [
            "7638/7638 [==============================] - 70s 9ms/step - loss: 0.6393 - accuracy: 0.6786 - val_loss: 0.6414 - val_accuracy: 0.6695\n",
            "Iter: 78 of 150\n",
            "7637/7638 [============================>.] - ETA: 0s - loss: 0.5701 - accuracy: 0.7166"
          ]
        },
        {
          "output_type": "stream",
          "name": "stderr",
          "text": [
            "WARNING:absl:Found untraced functions such as lstm_cell_layer_call_fn, lstm_cell_layer_call_and_return_conditional_losses while saving (showing 2 of 2). These functions will not be directly callable after loading.\n"
          ]
        },
        {
          "output_type": "stream",
          "name": "stdout",
          "text": [
            "7638/7638 [==============================] - 61s 8ms/step - loss: 0.5703 - accuracy: 0.7165 - val_loss: 0.5979 - val_accuracy: 0.7451\n",
            "Iter: 79 of 150\n",
            "7634/7638 [============================>.] - ETA: 0s - loss: 0.5247 - accuracy: 0.7384"
          ]
        },
        {
          "output_type": "stream",
          "name": "stderr",
          "text": [
            "WARNING:absl:Found untraced functions such as lstm_cell_layer_call_fn, lstm_cell_layer_call_and_return_conditional_losses while saving (showing 2 of 2). These functions will not be directly callable after loading.\n"
          ]
        },
        {
          "output_type": "stream",
          "name": "stdout",
          "text": [
            "7638/7638 [==============================] - 62s 8ms/step - loss: 0.5251 - accuracy: 0.7382 - val_loss: 0.7013 - val_accuracy: 0.6916\n",
            "Iter: 80 of 150\n",
            "7638/7638 [==============================] - ETA: 0s - loss: 0.5758 - accuracy: 0.7240"
          ]
        },
        {
          "output_type": "stream",
          "name": "stderr",
          "text": [
            "WARNING:absl:Found untraced functions such as lstm_cell_layer_call_fn, lstm_cell_layer_call_and_return_conditional_losses while saving (showing 2 of 2). These functions will not be directly callable after loading.\n"
          ]
        },
        {
          "output_type": "stream",
          "name": "stdout",
          "text": [
            "7638/7638 [==============================] - 60s 8ms/step - loss: 0.5758 - accuracy: 0.7240 - val_loss: 0.8077 - val_accuracy: 0.6481\n",
            "Iter: 81 of 150\n",
            "7634/7638 [============================>.] - ETA: 0s - loss: 0.6950 - accuracy: 0.6548"
          ]
        },
        {
          "output_type": "stream",
          "name": "stderr",
          "text": [
            "WARNING:absl:Found untraced functions such as lstm_cell_layer_call_fn, lstm_cell_layer_call_and_return_conditional_losses while saving (showing 2 of 2). These functions will not be directly callable after loading.\n"
          ]
        },
        {
          "output_type": "stream",
          "name": "stdout",
          "text": [
            "7638/7638 [==============================] - 69s 9ms/step - loss: 0.6948 - accuracy: 0.6549 - val_loss: 0.7492 - val_accuracy: 0.5884\n",
            "Iter: 82 of 150\n",
            "7634/7638 [============================>.] - ETA: 0s - loss: 0.6465 - accuracy: 0.6771"
          ]
        },
        {
          "output_type": "stream",
          "name": "stderr",
          "text": [
            "WARNING:absl:Found untraced functions such as lstm_cell_layer_call_fn, lstm_cell_layer_call_and_return_conditional_losses while saving (showing 2 of 2). These functions will not be directly callable after loading.\n"
          ]
        },
        {
          "output_type": "stream",
          "name": "stdout",
          "text": [
            "7638/7638 [==============================] - 70s 9ms/step - loss: 0.6465 - accuracy: 0.6771 - val_loss: 0.7845 - val_accuracy: 0.6279\n",
            "Iter: 83 of 150\n",
            "7638/7638 [==============================] - ETA: 0s - loss: 0.6581 - accuracy: 0.6648"
          ]
        },
        {
          "output_type": "stream",
          "name": "stderr",
          "text": [
            "WARNING:absl:Found untraced functions such as lstm_cell_layer_call_fn, lstm_cell_layer_call_and_return_conditional_losses while saving (showing 2 of 2). These functions will not be directly callable after loading.\n"
          ]
        },
        {
          "output_type": "stream",
          "name": "stdout",
          "text": [
            "7638/7638 [==============================] - 70s 9ms/step - loss: 0.6581 - accuracy: 0.6648 - val_loss: 0.7354 - val_accuracy: 0.6144\n",
            "Iter: 84 of 150\n",
            "7630/7638 [============================>.] - ETA: 0s - loss: 0.6457 - accuracy: 0.6625"
          ]
        },
        {
          "output_type": "stream",
          "name": "stderr",
          "text": [
            "WARNING:absl:Found untraced functions such as lstm_cell_layer_call_fn, lstm_cell_layer_call_and_return_conditional_losses while saving (showing 2 of 2). These functions will not be directly callable after loading.\n"
          ]
        },
        {
          "output_type": "stream",
          "name": "stdout",
          "text": [
            "7638/7638 [==============================] - 68s 9ms/step - loss: 0.6453 - accuracy: 0.6629 - val_loss: 0.8144 - val_accuracy: 0.6007\n",
            "Iter: 85 of 150\n",
            "7633/7638 [============================>.] - ETA: 0s - loss: 0.6040 - accuracy: 0.6898"
          ]
        },
        {
          "output_type": "stream",
          "name": "stderr",
          "text": [
            "WARNING:absl:Found untraced functions such as lstm_cell_layer_call_fn, lstm_cell_layer_call_and_return_conditional_losses while saving (showing 2 of 2). These functions will not be directly callable after loading.\n"
          ]
        },
        {
          "output_type": "stream",
          "name": "stdout",
          "text": [
            "7638/7638 [==============================] - 60s 8ms/step - loss: 0.6040 - accuracy: 0.6897 - val_loss: 0.6896 - val_accuracy: 0.6729\n",
            "Iter: 86 of 150\n",
            "7631/7638 [============================>.] - ETA: 0s - loss: 0.5220 - accuracy: 0.7472"
          ]
        },
        {
          "output_type": "stream",
          "name": "stderr",
          "text": [
            "WARNING:absl:Found untraced functions such as lstm_cell_layer_call_fn, lstm_cell_layer_call_and_return_conditional_losses while saving (showing 2 of 2). These functions will not be directly callable after loading.\n"
          ]
        },
        {
          "output_type": "stream",
          "name": "stdout",
          "text": [
            "7638/7638 [==============================] - 60s 8ms/step - loss: 0.5219 - accuracy: 0.7471 - val_loss: 0.7873 - val_accuracy: 0.6325\n",
            "Iter: 87 of 150\n",
            "7637/7638 [============================>.] - ETA: 0s - loss: 0.5537 - accuracy: 0.7292"
          ]
        },
        {
          "output_type": "stream",
          "name": "stderr",
          "text": [
            "WARNING:absl:Found untraced functions such as lstm_cell_layer_call_fn, lstm_cell_layer_call_and_return_conditional_losses while saving (showing 2 of 2). These functions will not be directly callable after loading.\n"
          ]
        },
        {
          "output_type": "stream",
          "name": "stdout",
          "text": [
            "7638/7638 [==============================] - 70s 9ms/step - loss: 0.5537 - accuracy: 0.7292 - val_loss: 0.7508 - val_accuracy: 0.6668\n",
            "Iter: 88 of 150\n",
            "7636/7638 [============================>.] - ETA: 0s - loss: 0.5150 - accuracy: 0.7505"
          ]
        },
        {
          "output_type": "stream",
          "name": "stderr",
          "text": [
            "WARNING:absl:Found untraced functions such as lstm_cell_layer_call_fn, lstm_cell_layer_call_and_return_conditional_losses while saving (showing 2 of 2). These functions will not be directly callable after loading.\n"
          ]
        },
        {
          "output_type": "stream",
          "name": "stdout",
          "text": [
            "7638/7638 [==============================] - 59s 8ms/step - loss: 0.5149 - accuracy: 0.7506 - val_loss: 0.8138 - val_accuracy: 0.6790\n",
            "Iter: 89 of 150\n",
            "7636/7638 [============================>.] - ETA: 0s - loss: 0.5684 - accuracy: 0.7331"
          ]
        },
        {
          "output_type": "stream",
          "name": "stderr",
          "text": [
            "WARNING:absl:Found untraced functions such as lstm_cell_layer_call_fn, lstm_cell_layer_call_and_return_conditional_losses while saving (showing 2 of 2). These functions will not be directly callable after loading.\n"
          ]
        },
        {
          "output_type": "stream",
          "name": "stdout",
          "text": [
            "7638/7638 [==============================] - 60s 8ms/step - loss: 0.5687 - accuracy: 0.7329 - val_loss: 0.8748 - val_accuracy: 0.6848\n",
            "Iter: 90 of 150\n",
            "7635/7638 [============================>.] - ETA: 0s - loss: 0.5528 - accuracy: 0.7252"
          ]
        },
        {
          "output_type": "stream",
          "name": "stderr",
          "text": [
            "WARNING:absl:Found untraced functions such as lstm_cell_layer_call_fn, lstm_cell_layer_call_and_return_conditional_losses while saving (showing 2 of 2). These functions will not be directly callable after loading.\n"
          ]
        },
        {
          "output_type": "stream",
          "name": "stdout",
          "text": [
            "7638/7638 [==============================] - 60s 8ms/step - loss: 0.5528 - accuracy: 0.7252 - val_loss: 0.8585 - val_accuracy: 0.6949\n",
            "Iter: 91 of 150\n",
            "7636/7638 [============================>.] - ETA: 0s - loss: 0.5689 - accuracy: 0.7446"
          ]
        },
        {
          "output_type": "stream",
          "name": "stderr",
          "text": [
            "WARNING:absl:Found untraced functions such as lstm_cell_layer_call_fn, lstm_cell_layer_call_and_return_conditional_losses while saving (showing 2 of 2). These functions will not be directly callable after loading.\n"
          ]
        },
        {
          "output_type": "stream",
          "name": "stdout",
          "text": [
            "7638/7638 [==============================] - 60s 8ms/step - loss: 0.5690 - accuracy: 0.7446 - val_loss: 0.6834 - val_accuracy: 0.7347\n",
            "Iter: 92 of 150\n",
            "7635/7638 [============================>.] - ETA: 0s - loss: 0.6010 - accuracy: 0.7201"
          ]
        },
        {
          "output_type": "stream",
          "name": "stderr",
          "text": [
            "WARNING:absl:Found untraced functions such as lstm_cell_layer_call_fn, lstm_cell_layer_call_and_return_conditional_losses while saving (showing 2 of 2). These functions will not be directly callable after loading.\n"
          ]
        },
        {
          "output_type": "stream",
          "name": "stdout",
          "text": [
            "7638/7638 [==============================] - 68s 9ms/step - loss: 0.6011 - accuracy: 0.7201 - val_loss: 0.7473 - val_accuracy: 0.7090\n",
            "Iter: 93 of 150\n",
            "7630/7638 [============================>.] - ETA: 0s - loss: 0.6077 - accuracy: 0.7241"
          ]
        },
        {
          "output_type": "stream",
          "name": "stderr",
          "text": [
            "WARNING:absl:Found untraced functions such as lstm_cell_layer_call_fn, lstm_cell_layer_call_and_return_conditional_losses while saving (showing 2 of 2). These functions will not be directly callable after loading.\n"
          ]
        },
        {
          "output_type": "stream",
          "name": "stdout",
          "text": [
            "7638/7638 [==============================] - 60s 8ms/step - loss: 0.6073 - accuracy: 0.7243 - val_loss: 0.9141 - val_accuracy: 0.6193\n",
            "Iter: 94 of 150\n",
            "7634/7638 [============================>.] - ETA: 0s - loss: 0.5520 - accuracy: 0.7364"
          ]
        },
        {
          "output_type": "stream",
          "name": "stderr",
          "text": [
            "WARNING:absl:Found untraced functions such as lstm_cell_layer_call_fn, lstm_cell_layer_call_and_return_conditional_losses while saving (showing 2 of 2). These functions will not be directly callable after loading.\n"
          ]
        },
        {
          "output_type": "stream",
          "name": "stdout",
          "text": [
            "7638/7638 [==============================] - 60s 8ms/step - loss: 0.5518 - accuracy: 0.7366 - val_loss: 0.7919 - val_accuracy: 0.6873\n",
            "Iter: 95 of 150\n",
            "7632/7638 [============================>.] - ETA: 0s - loss: 0.5170 - accuracy: 0.7488"
          ]
        },
        {
          "output_type": "stream",
          "name": "stderr",
          "text": [
            "WARNING:absl:Found untraced functions such as lstm_cell_layer_call_fn, lstm_cell_layer_call_and_return_conditional_losses while saving (showing 2 of 2). These functions will not be directly callable after loading.\n"
          ]
        },
        {
          "output_type": "stream",
          "name": "stdout",
          "text": [
            "7638/7638 [==============================] - 59s 8ms/step - loss: 0.5171 - accuracy: 0.7486 - val_loss: 0.7549 - val_accuracy: 0.6955\n",
            "Iter: 96 of 150\n",
            "7634/7638 [============================>.] - ETA: 0s - loss: 0.5376 - accuracy: 0.7389"
          ]
        },
        {
          "output_type": "stream",
          "name": "stderr",
          "text": [
            "WARNING:absl:Found untraced functions such as lstm_cell_layer_call_fn, lstm_cell_layer_call_and_return_conditional_losses while saving (showing 2 of 2). These functions will not be directly callable after loading.\n"
          ]
        },
        {
          "output_type": "stream",
          "name": "stdout",
          "text": [
            "7638/7638 [==============================] - 59s 8ms/step - loss: 0.5376 - accuracy: 0.7389 - val_loss: 0.6589 - val_accuracy: 0.7252\n",
            "Iter: 97 of 150\n",
            "7631/7638 [============================>.] - ETA: 0s - loss: 0.6237 - accuracy: 0.7131"
          ]
        },
        {
          "output_type": "stream",
          "name": "stderr",
          "text": [
            "WARNING:absl:Found untraced functions such as lstm_cell_layer_call_fn, lstm_cell_layer_call_and_return_conditional_losses while saving (showing 2 of 2). These functions will not be directly callable after loading.\n"
          ]
        },
        {
          "output_type": "stream",
          "name": "stdout",
          "text": [
            "7638/7638 [==============================] - 60s 8ms/step - loss: 0.6238 - accuracy: 0.7129 - val_loss: 0.6682 - val_accuracy: 0.7059\n",
            "Iter: 98 of 150\n",
            "7633/7638 [============================>.] - ETA: 0s - loss: 0.5873 - accuracy: 0.7259"
          ]
        },
        {
          "output_type": "stream",
          "name": "stderr",
          "text": [
            "WARNING:absl:Found untraced functions such as lstm_cell_layer_call_fn, lstm_cell_layer_call_and_return_conditional_losses while saving (showing 2 of 2). These functions will not be directly callable after loading.\n"
          ]
        },
        {
          "output_type": "stream",
          "name": "stdout",
          "text": [
            "7638/7638 [==============================] - 59s 8ms/step - loss: 0.5880 - accuracy: 0.7257 - val_loss: 0.7516 - val_accuracy: 0.6857\n",
            "Iter: 99 of 150\n",
            "7631/7638 [============================>.] - ETA: 0s - loss: 0.6246 - accuracy: 0.7084"
          ]
        },
        {
          "output_type": "stream",
          "name": "stderr",
          "text": [
            "WARNING:absl:Found untraced functions such as lstm_cell_layer_call_fn, lstm_cell_layer_call_and_return_conditional_losses while saving (showing 2 of 2). These functions will not be directly callable after loading.\n"
          ]
        },
        {
          "output_type": "stream",
          "name": "stdout",
          "text": [
            "7638/7638 [==============================] - 59s 8ms/step - loss: 0.6245 - accuracy: 0.7084 - val_loss: 0.7489 - val_accuracy: 0.6524\n",
            "Iter: 100 of 150\n",
            "7631/7638 [============================>.] - ETA: 0s - loss: 0.5685 - accuracy: 0.7352"
          ]
        },
        {
          "output_type": "stream",
          "name": "stderr",
          "text": [
            "WARNING:absl:Found untraced functions such as lstm_cell_layer_call_fn, lstm_cell_layer_call_and_return_conditional_losses while saving (showing 2 of 2). These functions will not be directly callable after loading.\n"
          ]
        },
        {
          "output_type": "stream",
          "name": "stdout",
          "text": [
            "7638/7638 [==============================] - 68s 9ms/step - loss: 0.5684 - accuracy: 0.7351 - val_loss: 0.8008 - val_accuracy: 0.6533\n",
            "Iter: 101 of 150\n",
            "7637/7638 [============================>.] - ETA: 0s - loss: 0.5684 - accuracy: 0.7307"
          ]
        },
        {
          "output_type": "stream",
          "name": "stderr",
          "text": [
            "WARNING:absl:Found untraced functions such as lstm_cell_layer_call_fn, lstm_cell_layer_call_and_return_conditional_losses while saving (showing 2 of 2). These functions will not be directly callable after loading.\n"
          ]
        },
        {
          "output_type": "stream",
          "name": "stdout",
          "text": [
            "7638/7638 [==============================] - 60s 8ms/step - loss: 0.5684 - accuracy: 0.7307 - val_loss: 0.8309 - val_accuracy: 0.6714\n",
            "Iter: 102 of 150\n",
            "7637/7638 [============================>.] - ETA: 0s - loss: 0.6358 - accuracy: 0.6720"
          ]
        },
        {
          "output_type": "stream",
          "name": "stderr",
          "text": [
            "WARNING:absl:Found untraced functions such as lstm_cell_layer_call_fn, lstm_cell_layer_call_and_return_conditional_losses while saving (showing 2 of 2). These functions will not be directly callable after loading.\n"
          ]
        },
        {
          "output_type": "stream",
          "name": "stdout",
          "text": [
            "7638/7638 [==============================] - 59s 8ms/step - loss: 0.6358 - accuracy: 0.6720 - val_loss: 0.7327 - val_accuracy: 0.6631\n",
            "Iter: 103 of 150\n",
            "7632/7638 [============================>.] - ETA: 0s - loss: 0.5562 - accuracy: 0.7264"
          ]
        },
        {
          "output_type": "stream",
          "name": "stderr",
          "text": [
            "WARNING:absl:Found untraced functions such as lstm_cell_layer_call_fn, lstm_cell_layer_call_and_return_conditional_losses while saving (showing 2 of 2). These functions will not be directly callable after loading.\n"
          ]
        },
        {
          "output_type": "stream",
          "name": "stdout",
          "text": [
            "7638/7638 [==============================] - 59s 8ms/step - loss: 0.5561 - accuracy: 0.7265 - val_loss: 0.7656 - val_accuracy: 0.6496\n",
            "Iter: 104 of 150\n",
            "7638/7638 [==============================] - ETA: 0s - loss: 0.5574 - accuracy: 0.7248"
          ]
        },
        {
          "output_type": "stream",
          "name": "stderr",
          "text": [
            "WARNING:absl:Found untraced functions such as lstm_cell_layer_call_fn, lstm_cell_layer_call_and_return_conditional_losses while saving (showing 2 of 2). These functions will not be directly callable after loading.\n"
          ]
        },
        {
          "output_type": "stream",
          "name": "stdout",
          "text": [
            "7638/7638 [==============================] - 60s 8ms/step - loss: 0.5574 - accuracy: 0.7248 - val_loss: 0.9398 - val_accuracy: 0.5799\n",
            "Iter: 105 of 150\n",
            "7632/7638 [============================>.] - ETA: 0s - loss: 0.5592 - accuracy: 0.7267"
          ]
        },
        {
          "output_type": "stream",
          "name": "stderr",
          "text": [
            "WARNING:absl:Found untraced functions such as lstm_cell_layer_call_fn, lstm_cell_layer_call_and_return_conditional_losses while saving (showing 2 of 2). These functions will not be directly callable after loading.\n"
          ]
        },
        {
          "output_type": "stream",
          "name": "stdout",
          "text": [
            "7638/7638 [==============================] - 59s 8ms/step - loss: 0.5592 - accuracy: 0.7268 - val_loss: 1.3061 - val_accuracy: 0.5860\n",
            "Iter: 106 of 150\n",
            "7630/7638 [============================>.] - ETA: 0s - loss: 0.6079 - accuracy: 0.6921"
          ]
        },
        {
          "output_type": "stream",
          "name": "stderr",
          "text": [
            "WARNING:absl:Found untraced functions such as lstm_cell_layer_call_fn, lstm_cell_layer_call_and_return_conditional_losses while saving (showing 2 of 2). These functions will not be directly callable after loading.\n"
          ]
        },
        {
          "output_type": "stream",
          "name": "stdout",
          "text": [
            "7638/7638 [==============================] - 60s 8ms/step - loss: 0.6076 - accuracy: 0.6923 - val_loss: 1.0220 - val_accuracy: 0.6154\n",
            "Iter: 107 of 150\n",
            "7630/7638 [============================>.] - ETA: 0s - loss: 0.5645 - accuracy: 0.7321"
          ]
        },
        {
          "output_type": "stream",
          "name": "stderr",
          "text": [
            "WARNING:absl:Found untraced functions such as lstm_cell_layer_call_fn, lstm_cell_layer_call_and_return_conditional_losses while saving (showing 2 of 2). These functions will not be directly callable after loading.\n"
          ]
        },
        {
          "output_type": "stream",
          "name": "stdout",
          "text": [
            "7638/7638 [==============================] - 68s 9ms/step - loss: 0.5643 - accuracy: 0.7323 - val_loss: 0.6259 - val_accuracy: 0.6677\n",
            "Iter: 108 of 150\n",
            "7634/7638 [============================>.] - ETA: 0s - loss: 0.5562 - accuracy: 0.7317"
          ]
        },
        {
          "output_type": "stream",
          "name": "stderr",
          "text": [
            "WARNING:absl:Found untraced functions such as lstm_cell_layer_call_fn, lstm_cell_layer_call_and_return_conditional_losses while saving (showing 2 of 2). These functions will not be directly callable after loading.\n"
          ]
        },
        {
          "output_type": "stream",
          "name": "stdout",
          "text": [
            "7638/7638 [==============================] - 69s 9ms/step - loss: 0.5560 - accuracy: 0.7317 - val_loss: 0.7830 - val_accuracy: 0.6931\n",
            "Iter: 109 of 150\n",
            "7635/7638 [============================>.] - ETA: 0s - loss: 0.5588 - accuracy: 0.7280"
          ]
        },
        {
          "output_type": "stream",
          "name": "stderr",
          "text": [
            "WARNING:absl:Found untraced functions such as lstm_cell_layer_call_fn, lstm_cell_layer_call_and_return_conditional_losses while saving (showing 2 of 2). These functions will not be directly callable after loading.\n"
          ]
        },
        {
          "output_type": "stream",
          "name": "stdout",
          "text": [
            "7638/7638 [==============================] - 59s 8ms/step - loss: 0.5586 - accuracy: 0.7281 - val_loss: 0.8074 - val_accuracy: 0.6466\n",
            "Iter: 110 of 150\n",
            "7633/7638 [============================>.] - ETA: 0s - loss: 0.5319 - accuracy: 0.7451"
          ]
        },
        {
          "output_type": "stream",
          "name": "stderr",
          "text": [
            "WARNING:absl:Found untraced functions such as lstm_cell_layer_call_fn, lstm_cell_layer_call_and_return_conditional_losses while saving (showing 2 of 2). These functions will not be directly callable after loading.\n"
          ]
        },
        {
          "output_type": "stream",
          "name": "stdout",
          "text": [
            "7638/7638 [==============================] - 59s 8ms/step - loss: 0.5318 - accuracy: 0.7451 - val_loss: 0.7026 - val_accuracy: 0.6897\n",
            "Iter: 111 of 150\n",
            "7635/7638 [============================>.] - ETA: 0s - loss: 0.5574 - accuracy: 0.7408"
          ]
        },
        {
          "output_type": "stream",
          "name": "stderr",
          "text": [
            "WARNING:absl:Found untraced functions such as lstm_cell_layer_call_fn, lstm_cell_layer_call_and_return_conditional_losses while saving (showing 2 of 2). These functions will not be directly callable after loading.\n"
          ]
        },
        {
          "output_type": "stream",
          "name": "stdout",
          "text": [
            "7638/7638 [==============================] - 68s 9ms/step - loss: 0.5573 - accuracy: 0.7409 - val_loss: 0.8418 - val_accuracy: 0.6735\n",
            "Iter: 112 of 150\n",
            "7637/7638 [============================>.] - ETA: 0s - loss: 0.5559 - accuracy: 0.7280"
          ]
        },
        {
          "output_type": "stream",
          "name": "stderr",
          "text": [
            "WARNING:absl:Found untraced functions such as lstm_cell_layer_call_fn, lstm_cell_layer_call_and_return_conditional_losses while saving (showing 2 of 2). These functions will not be directly callable after loading.\n"
          ]
        },
        {
          "output_type": "stream",
          "name": "stdout",
          "text": [
            "7638/7638 [==============================] - 59s 8ms/step - loss: 0.5559 - accuracy: 0.7281 - val_loss: 0.8011 - val_accuracy: 0.6763\n",
            "Iter: 113 of 150\n",
            "7633/7638 [============================>.] - ETA: 0s - loss: 0.5233 - accuracy: 0.7431"
          ]
        },
        {
          "output_type": "stream",
          "name": "stderr",
          "text": [
            "WARNING:absl:Found untraced functions such as lstm_cell_layer_call_fn, lstm_cell_layer_call_and_return_conditional_losses while saving (showing 2 of 2). These functions will not be directly callable after loading.\n"
          ]
        },
        {
          "output_type": "stream",
          "name": "stdout",
          "text": [
            "7638/7638 [==============================] - 68s 9ms/step - loss: 0.5233 - accuracy: 0.7431 - val_loss: 0.7888 - val_accuracy: 0.6698\n",
            "Iter: 114 of 150\n",
            "7631/7638 [============================>.] - ETA: 0s - loss: 0.5897 - accuracy: 0.7147"
          ]
        },
        {
          "output_type": "stream",
          "name": "stderr",
          "text": [
            "WARNING:absl:Found untraced functions such as lstm_cell_layer_call_fn, lstm_cell_layer_call_and_return_conditional_losses while saving (showing 2 of 2). These functions will not be directly callable after loading.\n"
          ]
        },
        {
          "output_type": "stream",
          "name": "stdout",
          "text": [
            "7638/7638 [==============================] - 61s 8ms/step - loss: 0.5899 - accuracy: 0.7146 - val_loss: 0.6661 - val_accuracy: 0.6860\n",
            "Iter: 115 of 150\n",
            "7630/7638 [============================>.] - ETA: 0s - loss: 0.6487 - accuracy: 0.6857"
          ]
        },
        {
          "output_type": "stream",
          "name": "stderr",
          "text": [
            "WARNING:absl:Found untraced functions such as lstm_cell_layer_call_fn, lstm_cell_layer_call_and_return_conditional_losses while saving (showing 2 of 2). These functions will not be directly callable after loading.\n"
          ]
        },
        {
          "output_type": "stream",
          "name": "stdout",
          "text": [
            "7638/7638 [==============================] - 68s 9ms/step - loss: 0.6483 - accuracy: 0.6859 - val_loss: 0.8268 - val_accuracy: 0.6398\n",
            "Iter: 116 of 150\n",
            "7636/7638 [============================>.] - ETA: 0s - loss: 0.5912 - accuracy: 0.7216"
          ]
        },
        {
          "output_type": "stream",
          "name": "stderr",
          "text": [
            "WARNING:absl:Found untraced functions such as lstm_cell_layer_call_fn, lstm_cell_layer_call_and_return_conditional_losses while saving (showing 2 of 2). These functions will not be directly callable after loading.\n"
          ]
        },
        {
          "output_type": "stream",
          "name": "stdout",
          "text": [
            "7638/7638 [==============================] - 60s 8ms/step - loss: 0.5916 - accuracy: 0.7214 - val_loss: 0.7048 - val_accuracy: 0.6928\n",
            "Iter: 117 of 150\n",
            "7632/7638 [============================>.] - ETA: 0s - loss: 0.6179 - accuracy: 0.7002"
          ]
        },
        {
          "output_type": "stream",
          "name": "stderr",
          "text": [
            "WARNING:absl:Found untraced functions such as lstm_cell_layer_call_fn, lstm_cell_layer_call_and_return_conditional_losses while saving (showing 2 of 2). These functions will not be directly callable after loading.\n"
          ]
        },
        {
          "output_type": "stream",
          "name": "stdout",
          "text": [
            "7638/7638 [==============================] - 59s 8ms/step - loss: 0.6176 - accuracy: 0.7004 - val_loss: 0.6465 - val_accuracy: 0.7194\n",
            "Iter: 118 of 150\n",
            "7632/7638 [============================>.] - ETA: 0s - loss: 0.5953 - accuracy: 0.7138"
          ]
        },
        {
          "output_type": "stream",
          "name": "stderr",
          "text": [
            "WARNING:absl:Found untraced functions such as lstm_cell_layer_call_fn, lstm_cell_layer_call_and_return_conditional_losses while saving (showing 2 of 2). These functions will not be directly callable after loading.\n"
          ]
        },
        {
          "output_type": "stream",
          "name": "stdout",
          "text": [
            "7638/7638 [==============================] - 61s 8ms/step - loss: 0.5955 - accuracy: 0.7137 - val_loss: 0.7867 - val_accuracy: 0.6787\n",
            "Iter: 119 of 150\n",
            "7631/7638 [============================>.] - ETA: 0s - loss: 0.6013 - accuracy: 0.6994"
          ]
        },
        {
          "output_type": "stream",
          "name": "stderr",
          "text": [
            "WARNING:absl:Found untraced functions such as lstm_cell_layer_call_fn, lstm_cell_layer_call_and_return_conditional_losses while saving (showing 2 of 2). These functions will not be directly callable after loading.\n"
          ]
        },
        {
          "output_type": "stream",
          "name": "stdout",
          "text": [
            "7638/7638 [==============================] - 59s 8ms/step - loss: 0.6010 - accuracy: 0.6997 - val_loss: 0.7408 - val_accuracy: 0.6310\n",
            "Iter: 120 of 150\n",
            "7634/7638 [============================>.] - ETA: 0s - loss: 0.5747 - accuracy: 0.7151"
          ]
        },
        {
          "output_type": "stream",
          "name": "stderr",
          "text": [
            "WARNING:absl:Found untraced functions such as lstm_cell_layer_call_fn, lstm_cell_layer_call_and_return_conditional_losses while saving (showing 2 of 2). These functions will not be directly callable after loading.\n"
          ]
        },
        {
          "output_type": "stream",
          "name": "stdout",
          "text": [
            "7638/7638 [==============================] - 59s 8ms/step - loss: 0.5745 - accuracy: 0.7152 - val_loss: 0.7198 - val_accuracy: 0.6536\n",
            "Iter: 121 of 150\n",
            "7630/7638 [============================>.] - ETA: 0s - loss: 0.5700 - accuracy: 0.7267"
          ]
        },
        {
          "output_type": "stream",
          "name": "stderr",
          "text": [
            "WARNING:absl:Found untraced functions such as lstm_cell_layer_call_fn, lstm_cell_layer_call_and_return_conditional_losses while saving (showing 2 of 2). These functions will not be directly callable after loading.\n"
          ]
        },
        {
          "output_type": "stream",
          "name": "stdout",
          "text": [
            "7638/7638 [==============================] - 60s 8ms/step - loss: 0.5698 - accuracy: 0.7269 - val_loss: 0.6488 - val_accuracy: 0.6980\n",
            "Iter: 122 of 150\n",
            "7634/7638 [============================>.] - ETA: 0s - loss: 0.5907 - accuracy: 0.7201"
          ]
        },
        {
          "output_type": "stream",
          "name": "stderr",
          "text": [
            "WARNING:absl:Found untraced functions such as lstm_cell_layer_call_fn, lstm_cell_layer_call_and_return_conditional_losses while saving (showing 2 of 2). These functions will not be directly callable after loading.\n"
          ]
        },
        {
          "output_type": "stream",
          "name": "stdout",
          "text": [
            "7638/7638 [==============================] - 59s 8ms/step - loss: 0.5906 - accuracy: 0.7202 - val_loss: 0.7783 - val_accuracy: 0.6478\n",
            "Iter: 123 of 150\n",
            "7638/7638 [==============================] - ETA: 0s - loss: 0.5917 - accuracy: 0.7135"
          ]
        },
        {
          "output_type": "stream",
          "name": "stderr",
          "text": [
            "WARNING:absl:Found untraced functions such as lstm_cell_layer_call_fn, lstm_cell_layer_call_and_return_conditional_losses while saving (showing 2 of 2). These functions will not be directly callable after loading.\n"
          ]
        },
        {
          "output_type": "stream",
          "name": "stdout",
          "text": [
            "7638/7638 [==============================] - 60s 8ms/step - loss: 0.5917 - accuracy: 0.7135 - val_loss: 0.7510 - val_accuracy: 0.6646\n",
            "Iter: 124 of 150\n",
            "7632/7638 [============================>.] - ETA: 0s - loss: 0.5850 - accuracy: 0.7061"
          ]
        },
        {
          "output_type": "stream",
          "name": "stderr",
          "text": [
            "WARNING:absl:Found untraced functions such as lstm_cell_layer_call_fn, lstm_cell_layer_call_and_return_conditional_losses while saving (showing 2 of 2). These functions will not be directly callable after loading.\n"
          ]
        },
        {
          "output_type": "stream",
          "name": "stdout",
          "text": [
            "7638/7638 [==============================] - 59s 8ms/step - loss: 0.5851 - accuracy: 0.7058 - val_loss: 0.7112 - val_accuracy: 0.6989\n",
            "Iter: 125 of 150\n",
            "7638/7638 [==============================] - ETA: 0s - loss: 0.5647 - accuracy: 0.7220"
          ]
        },
        {
          "output_type": "stream",
          "name": "stderr",
          "text": [
            "WARNING:absl:Found untraced functions such as lstm_cell_layer_call_fn, lstm_cell_layer_call_and_return_conditional_losses while saving (showing 2 of 2). These functions will not be directly callable after loading.\n"
          ]
        },
        {
          "output_type": "stream",
          "name": "stdout",
          "text": [
            "7638/7638 [==============================] - 60s 8ms/step - loss: 0.5647 - accuracy: 0.7220 - val_loss: 0.7519 - val_accuracy: 0.6873\n",
            "Iter: 126 of 150\n",
            "7636/7638 [============================>.] - ETA: 0s - loss: 0.5886 - accuracy: 0.7166"
          ]
        },
        {
          "output_type": "stream",
          "name": "stderr",
          "text": [
            "WARNING:absl:Found untraced functions such as lstm_cell_layer_call_fn, lstm_cell_layer_call_and_return_conditional_losses while saving (showing 2 of 2). These functions will not be directly callable after loading.\n"
          ]
        },
        {
          "output_type": "stream",
          "name": "stdout",
          "text": [
            "7638/7638 [==============================] - 60s 8ms/step - loss: 0.5885 - accuracy: 0.7167 - val_loss: 0.6180 - val_accuracy: 0.7050\n",
            "Iter: 127 of 150\n",
            "7637/7638 [============================>.] - ETA: 0s - loss: 0.5555 - accuracy: 0.7282"
          ]
        },
        {
          "output_type": "stream",
          "name": "stderr",
          "text": [
            "WARNING:absl:Found untraced functions such as lstm_cell_layer_call_fn, lstm_cell_layer_call_and_return_conditional_losses while saving (showing 2 of 2). These functions will not be directly callable after loading.\n"
          ]
        },
        {
          "output_type": "stream",
          "name": "stdout",
          "text": [
            "7638/7638 [==============================] - 59s 8ms/step - loss: 0.5556 - accuracy: 0.7281 - val_loss: 0.7171 - val_accuracy: 0.6931\n",
            "Iter: 128 of 150\n",
            "7634/7638 [============================>.] - ETA: 0s - loss: 0.5641 - accuracy: 0.7228"
          ]
        },
        {
          "output_type": "stream",
          "name": "stderr",
          "text": [
            "WARNING:absl:Found untraced functions such as lstm_cell_layer_call_fn, lstm_cell_layer_call_and_return_conditional_losses while saving (showing 2 of 2). These functions will not be directly callable after loading.\n"
          ]
        },
        {
          "output_type": "stream",
          "name": "stdout",
          "text": [
            "7638/7638 [==============================] - 68s 9ms/step - loss: 0.5641 - accuracy: 0.7227 - val_loss: 0.8791 - val_accuracy: 0.6417\n",
            "Iter: 129 of 150\n",
            "7635/7638 [============================>.] - ETA: 0s - loss: 0.5767 - accuracy: 0.7157"
          ]
        },
        {
          "output_type": "stream",
          "name": "stderr",
          "text": [
            "WARNING:absl:Found untraced functions such as lstm_cell_layer_call_fn, lstm_cell_layer_call_and_return_conditional_losses while saving (showing 2 of 2). These functions will not be directly callable after loading.\n"
          ]
        },
        {
          "output_type": "stream",
          "name": "stdout",
          "text": [
            "7638/7638 [==============================] - 69s 9ms/step - loss: 0.5770 - accuracy: 0.7154 - val_loss: 0.6476 - val_accuracy: 0.6830\n",
            "Iter: 130 of 150\n",
            "7633/7638 [============================>.] - ETA: 0s - loss: 0.5825 - accuracy: 0.7107"
          ]
        },
        {
          "output_type": "stream",
          "name": "stderr",
          "text": [
            "WARNING:absl:Found untraced functions such as lstm_cell_layer_call_fn, lstm_cell_layer_call_and_return_conditional_losses while saving (showing 2 of 2). These functions will not be directly callable after loading.\n"
          ]
        },
        {
          "output_type": "stream",
          "name": "stdout",
          "text": [
            "7638/7638 [==============================] - 60s 8ms/step - loss: 0.5825 - accuracy: 0.7108 - val_loss: 0.7435 - val_accuracy: 0.6346\n",
            "Iter: 131 of 150\n",
            "7631/7638 [============================>.] - ETA: 0s - loss: 0.5931 - accuracy: 0.7033"
          ]
        },
        {
          "output_type": "stream",
          "name": "stderr",
          "text": [
            "WARNING:absl:Found untraced functions such as lstm_cell_layer_call_fn, lstm_cell_layer_call_and_return_conditional_losses while saving (showing 2 of 2). These functions will not be directly callable after loading.\n"
          ]
        },
        {
          "output_type": "stream",
          "name": "stdout",
          "text": [
            "7638/7638 [==============================] - 61s 8ms/step - loss: 0.5929 - accuracy: 0.7036 - val_loss: 0.7070 - val_accuracy: 0.6698\n",
            "Iter: 132 of 150\n",
            "7638/7638 [==============================] - ETA: 0s - loss: 0.5773 - accuracy: 0.7134"
          ]
        },
        {
          "output_type": "stream",
          "name": "stderr",
          "text": [
            "WARNING:absl:Found untraced functions such as lstm_cell_layer_call_fn, lstm_cell_layer_call_and_return_conditional_losses while saving (showing 2 of 2). These functions will not be directly callable after loading.\n"
          ]
        },
        {
          "output_type": "stream",
          "name": "stdout",
          "text": [
            "7638/7638 [==============================] - 59s 8ms/step - loss: 0.5773 - accuracy: 0.7134 - val_loss: 0.8022 - val_accuracy: 0.6530\n",
            "Iter: 133 of 150\n",
            "7636/7638 [============================>.] - ETA: 0s - loss: 0.5442 - accuracy: 0.7466"
          ]
        },
        {
          "output_type": "stream",
          "name": "stderr",
          "text": [
            "WARNING:absl:Found untraced functions such as lstm_cell_layer_call_fn, lstm_cell_layer_call_and_return_conditional_losses while saving (showing 2 of 2). These functions will not be directly callable after loading.\n"
          ]
        },
        {
          "output_type": "stream",
          "name": "stdout",
          "text": [
            "7638/7638 [==============================] - 68s 9ms/step - loss: 0.5441 - accuracy: 0.7467 - val_loss: 0.6085 - val_accuracy: 0.7243\n",
            "Iter: 134 of 150\n",
            "7630/7638 [============================>.] - ETA: 0s - loss: 0.5757 - accuracy: 0.7163"
          ]
        },
        {
          "output_type": "stream",
          "name": "stderr",
          "text": [
            "WARNING:absl:Found untraced functions such as lstm_cell_layer_call_fn, lstm_cell_layer_call_and_return_conditional_losses while saving (showing 2 of 2). These functions will not be directly callable after loading.\n"
          ]
        },
        {
          "output_type": "stream",
          "name": "stdout",
          "text": [
            "7638/7638 [==============================] - 60s 8ms/step - loss: 0.5754 - accuracy: 0.7164 - val_loss: 0.6349 - val_accuracy: 0.7121\n",
            "Iter: 135 of 150\n",
            "7630/7638 [============================>.] - ETA: 0s - loss: 0.5970 - accuracy: 0.7014"
          ]
        },
        {
          "output_type": "stream",
          "name": "stderr",
          "text": [
            "WARNING:absl:Found untraced functions such as lstm_cell_layer_call_fn, lstm_cell_layer_call_and_return_conditional_losses while saving (showing 2 of 2). These functions will not be directly callable after loading.\n"
          ]
        },
        {
          "output_type": "stream",
          "name": "stdout",
          "text": [
            "7638/7638 [==============================] - 60s 8ms/step - loss: 0.5967 - accuracy: 0.7015 - val_loss: 0.7246 - val_accuracy: 0.7127\n",
            "Iter: 136 of 150\n",
            "7631/7638 [============================>.] - ETA: 0s - loss: 0.5997 - accuracy: 0.6998"
          ]
        },
        {
          "output_type": "stream",
          "name": "stderr",
          "text": [
            "WARNING:absl:Found untraced functions such as lstm_cell_layer_call_fn, lstm_cell_layer_call_and_return_conditional_losses while saving (showing 2 of 2). These functions will not be directly callable after loading.\n"
          ]
        },
        {
          "output_type": "stream",
          "name": "stdout",
          "text": [
            "7638/7638 [==============================] - 59s 8ms/step - loss: 0.5995 - accuracy: 0.6999 - val_loss: 0.6049 - val_accuracy: 0.7160\n",
            "Iter: 137 of 150\n",
            "7632/7638 [============================>.] - ETA: 0s - loss: 0.5811 - accuracy: 0.7089"
          ]
        },
        {
          "output_type": "stream",
          "name": "stderr",
          "text": [
            "WARNING:absl:Found untraced functions such as lstm_cell_layer_call_fn, lstm_cell_layer_call_and_return_conditional_losses while saving (showing 2 of 2). These functions will not be directly callable after loading.\n"
          ]
        },
        {
          "output_type": "stream",
          "name": "stdout",
          "text": [
            "7638/7638 [==============================] - 70s 9ms/step - loss: 0.5810 - accuracy: 0.7090 - val_loss: 0.6017 - val_accuracy: 0.7307\n",
            "Iter: 138 of 150\n",
            "7633/7638 [============================>.] - ETA: 0s - loss: 0.5778 - accuracy: 0.7181"
          ]
        },
        {
          "output_type": "stream",
          "name": "stderr",
          "text": [
            "WARNING:absl:Found untraced functions such as lstm_cell_layer_call_fn, lstm_cell_layer_call_and_return_conditional_losses while saving (showing 2 of 2). These functions will not be directly callable after loading.\n"
          ]
        },
        {
          "output_type": "stream",
          "name": "stdout",
          "text": [
            "7638/7638 [==============================] - 70s 9ms/step - loss: 0.5776 - accuracy: 0.7181 - val_loss: 0.6517 - val_accuracy: 0.7105\n",
            "Iter: 139 of 150\n",
            "7636/7638 [============================>.] - ETA: 0s - loss: 0.6084 - accuracy: 0.6974"
          ]
        },
        {
          "output_type": "stream",
          "name": "stderr",
          "text": [
            "WARNING:absl:Found untraced functions such as lstm_cell_layer_call_fn, lstm_cell_layer_call_and_return_conditional_losses while saving (showing 2 of 2). These functions will not be directly callable after loading.\n"
          ]
        },
        {
          "output_type": "stream",
          "name": "stdout",
          "text": [
            "7638/7638 [==============================] - 69s 9ms/step - loss: 0.6085 - accuracy: 0.6972 - val_loss: 0.6200 - val_accuracy: 0.7420\n",
            "Iter: 140 of 150\n",
            "7637/7638 [============================>.] - ETA: 0s - loss: 0.5956 - accuracy: 0.7059"
          ]
        },
        {
          "output_type": "stream",
          "name": "stderr",
          "text": [
            "WARNING:absl:Found untraced functions such as lstm_cell_layer_call_fn, lstm_cell_layer_call_and_return_conditional_losses while saving (showing 2 of 2). These functions will not be directly callable after loading.\n"
          ]
        },
        {
          "output_type": "stream",
          "name": "stdout",
          "text": [
            "7638/7638 [==============================] - 61s 8ms/step - loss: 0.5955 - accuracy: 0.7059 - val_loss: 0.6078 - val_accuracy: 0.7277\n",
            "Iter: 141 of 150\n",
            "7637/7638 [============================>.] - ETA: 0s - loss: 0.5980 - accuracy: 0.7142"
          ]
        },
        {
          "output_type": "stream",
          "name": "stderr",
          "text": [
            "WARNING:absl:Found untraced functions such as lstm_cell_layer_call_fn, lstm_cell_layer_call_and_return_conditional_losses while saving (showing 2 of 2). These functions will not be directly callable after loading.\n"
          ]
        },
        {
          "output_type": "stream",
          "name": "stdout",
          "text": [
            "7638/7638 [==============================] - 70s 9ms/step - loss: 0.5980 - accuracy: 0.7142 - val_loss: 0.5907 - val_accuracy: 0.7298\n",
            "Iter: 142 of 150\n",
            "7632/7638 [============================>.] - ETA: 0s - loss: 0.5841 - accuracy: 0.7208"
          ]
        },
        {
          "output_type": "stream",
          "name": "stderr",
          "text": [
            "WARNING:absl:Found untraced functions such as lstm_cell_layer_call_fn, lstm_cell_layer_call_and_return_conditional_losses while saving (showing 2 of 2). These functions will not be directly callable after loading.\n"
          ]
        },
        {
          "output_type": "stream",
          "name": "stdout",
          "text": [
            "7638/7638 [==============================] - 60s 8ms/step - loss: 0.5842 - accuracy: 0.7206 - val_loss: 0.6778 - val_accuracy: 0.6655\n",
            "Iter: 143 of 150\n",
            "7631/7638 [============================>.] - ETA: 0s - loss: 0.6133 - accuracy: 0.6858"
          ]
        },
        {
          "output_type": "stream",
          "name": "stderr",
          "text": [
            "WARNING:absl:Found untraced functions such as lstm_cell_layer_call_fn, lstm_cell_layer_call_and_return_conditional_losses while saving (showing 2 of 2). These functions will not be directly callable after loading.\n"
          ]
        },
        {
          "output_type": "stream",
          "name": "stdout",
          "text": [
            "7638/7638 [==============================] - 61s 8ms/step - loss: 0.6131 - accuracy: 0.6859 - val_loss: 0.8372 - val_accuracy: 0.6698\n",
            "Iter: 144 of 150\n",
            "7635/7638 [============================>.] - ETA: 0s - loss: 0.5805 - accuracy: 0.7232"
          ]
        },
        {
          "output_type": "stream",
          "name": "stderr",
          "text": [
            "WARNING:absl:Found untraced functions such as lstm_cell_layer_call_fn, lstm_cell_layer_call_and_return_conditional_losses while saving (showing 2 of 2). These functions will not be directly callable after loading.\n"
          ]
        },
        {
          "output_type": "stream",
          "name": "stdout",
          "text": [
            "7638/7638 [==============================] - 61s 8ms/step - loss: 0.5803 - accuracy: 0.7234 - val_loss: 0.8694 - val_accuracy: 0.5964\n",
            "Iter: 145 of 150\n",
            "7636/7638 [============================>.] - ETA: 0s - loss: 0.6017 - accuracy: 0.7025"
          ]
        },
        {
          "output_type": "stream",
          "name": "stderr",
          "text": [
            "WARNING:absl:Found untraced functions such as lstm_cell_layer_call_fn, lstm_cell_layer_call_and_return_conditional_losses while saving (showing 2 of 2). These functions will not be directly callable after loading.\n"
          ]
        },
        {
          "output_type": "stream",
          "name": "stdout",
          "text": [
            "7638/7638 [==============================] - 61s 8ms/step - loss: 0.6015 - accuracy: 0.7025 - val_loss: 0.8163 - val_accuracy: 0.6371\n",
            "Iter: 146 of 150\n",
            "7631/7638 [============================>.] - ETA: 0s - loss: 0.6498 - accuracy: 0.6729"
          ]
        },
        {
          "output_type": "stream",
          "name": "stderr",
          "text": [
            "WARNING:absl:Found untraced functions such as lstm_cell_layer_call_fn, lstm_cell_layer_call_and_return_conditional_losses while saving (showing 2 of 2). These functions will not be directly callable after loading.\n"
          ]
        },
        {
          "output_type": "stream",
          "name": "stdout",
          "text": [
            "7638/7638 [==============================] - 60s 8ms/step - loss: 0.6497 - accuracy: 0.6730 - val_loss: 0.6903 - val_accuracy: 0.6833\n",
            "Iter: 147 of 150\n",
            "7638/7638 [==============================] - ETA: 0s - loss: 0.6439 - accuracy: 0.6739"
          ]
        },
        {
          "output_type": "stream",
          "name": "stderr",
          "text": [
            "WARNING:absl:Found untraced functions such as lstm_cell_layer_call_fn, lstm_cell_layer_call_and_return_conditional_losses while saving (showing 2 of 2). These functions will not be directly callable after loading.\n"
          ]
        },
        {
          "output_type": "stream",
          "name": "stdout",
          "text": [
            "7638/7638 [==============================] - 60s 8ms/step - loss: 0.6439 - accuracy: 0.6739 - val_loss: 0.6826 - val_accuracy: 0.6680\n",
            "Iter: 148 of 150\n",
            "7631/7638 [============================>.] - ETA: 0s - loss: 0.6221 - accuracy: 0.6868"
          ]
        },
        {
          "output_type": "stream",
          "name": "stderr",
          "text": [
            "WARNING:absl:Found untraced functions such as lstm_cell_layer_call_fn, lstm_cell_layer_call_and_return_conditional_losses while saving (showing 2 of 2). These functions will not be directly callable after loading.\n"
          ]
        },
        {
          "output_type": "stream",
          "name": "stdout",
          "text": [
            "7638/7638 [==============================] - 69s 9ms/step - loss: 0.6218 - accuracy: 0.6871 - val_loss: 0.6901 - val_accuracy: 0.6812\n",
            "Iter: 149 of 150\n",
            "7630/7638 [============================>.] - ETA: 0s - loss: 0.6059 - accuracy: 0.6946"
          ]
        },
        {
          "output_type": "stream",
          "name": "stderr",
          "text": [
            "WARNING:absl:Found untraced functions such as lstm_cell_layer_call_fn, lstm_cell_layer_call_and_return_conditional_losses while saving (showing 2 of 2). These functions will not be directly callable after loading.\n"
          ]
        },
        {
          "output_type": "stream",
          "name": "stdout",
          "text": [
            "7638/7638 [==============================] - 60s 8ms/step - loss: 0.6056 - accuracy: 0.6949 - val_loss: 0.6567 - val_accuracy: 0.6821\n",
            "Iter: 150 of 150\n",
            "7630/7638 [============================>.] - ETA: 0s - loss: 0.5931 - accuracy: 0.6996"
          ]
        },
        {
          "output_type": "stream",
          "name": "stderr",
          "text": [
            "WARNING:absl:Found untraced functions such as lstm_cell_layer_call_fn, lstm_cell_layer_call_and_return_conditional_losses while saving (showing 2 of 2). These functions will not be directly callable after loading.\n"
          ]
        },
        {
          "output_type": "stream",
          "name": "stdout",
          "text": [
            "\b\b\b\b\b\b\b\b\b\b\b\b\b\b\b\b\b\b\b\b\b\b\b\b\b\b\b\b\b\b\b\b\b\b\b\b\b\b\b\b\b\b\b\b\b\b\b\b\b\b\b\b\b\b\b\b\b\b\b\b\b\b\b\b\b\b\b\b\b\b\b\b\b\b\b\b\b\b\b\b\b\b\b\b\b\b\r7638/7638 [==============================] - 62s 8ms/step - loss: 0.5928 - accuracy: 0.6998 - val_loss: 0.7505 - val_accuracy: 0.6628\n"
          ]
        }
      ],
      "source": [
        "model = build_model(MODEL_NAME)\n",
        "\n",
        "num_epochs = 150\n",
        "for i in range(num_epochs):\n",
        "    print(\"Iter: %d of %d\" % (i+1, num_epochs))\n",
        "    model.fit(trainX, trainY, epochs=1, batch_size = batch_size, shuffle = False, \n",
        "               validation_data=(testX, testY), callbacks=[savemodel])\n",
        "    model.reset_states()\n"
      ]
    },
    {
      "cell_type": "code",
      "execution_count": null,
      "metadata": {
        "id": "RNNzDP7hVh-y"
      },
      "outputs": [],
      "source": []
    }
  ],
  "metadata": {
    "kernelspec": {
      "display_name": "Python 3 (ipykernel)",
      "language": "python",
      "name": "python3"
    },
    "language_info": {
      "codemirror_mode": {
        "name": "ipython",
        "version": 3
      },
      "file_extension": ".py",
      "mimetype": "text/x-python",
      "name": "python",
      "nbconvert_exporter": "python",
      "pygments_lexer": "ipython3",
      "version": "3.9.12"
    },
    "colab": {
      "provenance": []
    },
    "accelerator": "GPU",
    "gpuClass": "standard"
  },
  "nbformat": 4,
  "nbformat_minor": 0
}