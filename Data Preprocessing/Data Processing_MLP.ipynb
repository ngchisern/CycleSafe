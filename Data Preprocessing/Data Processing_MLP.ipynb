{
 "cells": [
  {
   "cell_type": "code",
   "execution_count": 17,
   "id": "d45d6500",
   "metadata": {},
   "outputs": [],
   "source": [
    "import numpy as np\n",
    "import pandas as pd"
   ]
  },
  {
   "cell_type": "code",
   "execution_count": 18,
   "id": "5af834b9",
   "metadata": {},
   "outputs": [],
   "source": [
    "df=pd.read_csv('data.csv', usecols=['accX', 'accY', 'accZ', 'accResultant', 'gyrX', 'gyrY', 'gyrZ', 'isFall'])"
   ]
  },
  {
   "cell_type": "code",
   "execution_count": 19,
   "id": "f1ebe32a",
   "metadata": {},
   "outputs": [
    {
     "data": {
      "text/plain": [
       "(11140, 8)"
      ]
     },
     "execution_count": 19,
     "metadata": {},
     "output_type": "execute_result"
    }
   ],
   "source": [
    "df.shape"
   ]
  },
  {
   "cell_type": "code",
   "execution_count": 20,
   "id": "6dc6e097",
   "metadata": {},
   "outputs": [
    {
     "data": {
      "text/html": [
       "<div>\n",
       "<style scoped>\n",
       "    .dataframe tbody tr th:only-of-type {\n",
       "        vertical-align: middle;\n",
       "    }\n",
       "\n",
       "    .dataframe tbody tr th {\n",
       "        vertical-align: top;\n",
       "    }\n",
       "\n",
       "    .dataframe thead th {\n",
       "        text-align: right;\n",
       "    }\n",
       "</style>\n",
       "<table border=\"1\" class=\"dataframe\">\n",
       "  <thead>\n",
       "    <tr style=\"text-align: right;\">\n",
       "      <th></th>\n",
       "      <th>accX</th>\n",
       "      <th>accY</th>\n",
       "      <th>accZ</th>\n",
       "      <th>accResultant</th>\n",
       "      <th>gyrX</th>\n",
       "      <th>gyrY</th>\n",
       "      <th>gyrZ</th>\n",
       "      <th>isFall</th>\n",
       "    </tr>\n",
       "  </thead>\n",
       "  <tbody>\n",
       "    <tr>\n",
       "      <th>0</th>\n",
       "      <td>0.02</td>\n",
       "      <td>-0.87</td>\n",
       "      <td>2.06</td>\n",
       "      <td>2.24</td>\n",
       "      <td>-5.92</td>\n",
       "      <td>1.57</td>\n",
       "      <td>-0.04</td>\n",
       "      <td>0.0</td>\n",
       "    </tr>\n",
       "    <tr>\n",
       "      <th>1</th>\n",
       "      <td>0.03</td>\n",
       "      <td>-0.87</td>\n",
       "      <td>2.08</td>\n",
       "      <td>2.26</td>\n",
       "      <td>-7.55</td>\n",
       "      <td>1.35</td>\n",
       "      <td>0.54</td>\n",
       "      <td>0.0</td>\n",
       "    </tr>\n",
       "    <tr>\n",
       "      <th>2</th>\n",
       "      <td>0.03</td>\n",
       "      <td>-0.87</td>\n",
       "      <td>2.05</td>\n",
       "      <td>2.23</td>\n",
       "      <td>-8.21</td>\n",
       "      <td>1.27</td>\n",
       "      <td>0.70</td>\n",
       "      <td>0.0</td>\n",
       "    </tr>\n",
       "    <tr>\n",
       "      <th>3</th>\n",
       "      <td>0.03</td>\n",
       "      <td>-0.87</td>\n",
       "      <td>2.08</td>\n",
       "      <td>2.25</td>\n",
       "      <td>-6.60</td>\n",
       "      <td>1.75</td>\n",
       "      <td>0.08</td>\n",
       "      <td>0.0</td>\n",
       "    </tr>\n",
       "    <tr>\n",
       "      <th>4</th>\n",
       "      <td>0.03</td>\n",
       "      <td>-0.87</td>\n",
       "      <td>2.06</td>\n",
       "      <td>2.23</td>\n",
       "      <td>-4.52</td>\n",
       "      <td>1.10</td>\n",
       "      <td>0.33</td>\n",
       "      <td>0.0</td>\n",
       "    </tr>\n",
       "  </tbody>\n",
       "</table>\n",
       "</div>"
      ],
      "text/plain": [
       "   accX  accY  accZ  accResultant  gyrX  gyrY  gyrZ  isFall\n",
       "0  0.02 -0.87  2.06          2.24 -5.92  1.57 -0.04     0.0\n",
       "1  0.03 -0.87  2.08          2.26 -7.55  1.35  0.54     0.0\n",
       "2  0.03 -0.87  2.05          2.23 -8.21  1.27  0.70     0.0\n",
       "3  0.03 -0.87  2.08          2.25 -6.60  1.75  0.08     0.0\n",
       "4  0.03 -0.87  2.06          2.23 -4.52  1.10  0.33     0.0"
      ]
     },
     "execution_count": 20,
     "metadata": {},
     "output_type": "execute_result"
    }
   ],
   "source": [
    "df.head()"
   ]
  },
  {
   "cell_type": "code",
   "execution_count": 21,
   "id": "063d3978",
   "metadata": {},
   "outputs": [],
   "source": [
    "arr = df.to_numpy()"
   ]
  },
  {
   "cell_type": "code",
   "execution_count": 22,
   "id": "ee772755",
   "metadata": {},
   "outputs": [],
   "source": [
    "window_size = 10;"
   ]
  },
  {
   "cell_type": "code",
   "execution_count": 49,
   "id": "47b33d48",
   "metadata": {},
   "outputs": [],
   "source": [
    "new_arr = np.empty([0, window_size * 7 + 1])\n",
    "\n",
    "i = 0\n",
    "\n",
    "while (i < len(arr)):\n",
    "    window = arr[i:i+window_size]\n",
    "    \n",
    "    if len(window) != window_size:\n",
    "        break\n",
    "    \n",
    "    result = np.mean(window[:, 7])\n",
    "    if result > 0.7:\n",
    "        i += 1\n",
    "        label = 1\n",
    "    else:\n",
    "        i += window_size\n",
    "        label = 0\n",
    "\n",
    "    entry = window[:, :7].reshape(1, -1)\n",
    "    entry = np.append(entry, label).reshape(1, -1)\n",
    "    new_arr = np.append(new_arr, entry, axis=0)"
   ]
  },
  {
   "cell_type": "code",
   "execution_count": 50,
   "id": "095586b7",
   "metadata": {},
   "outputs": [
    {
     "data": {
      "text/plain": [
       "(1811, 71)"
      ]
     },
     "execution_count": 50,
     "metadata": {},
     "output_type": "execute_result"
    }
   ],
   "source": [
    "new_arr.shape"
   ]
  },
  {
   "cell_type": "code",
   "execution_count": 51,
   "id": "f2a8bafa",
   "metadata": {},
   "outputs": [
    {
     "data": {
      "text/plain": [
       "Index(['accX', 'accY', 'accZ', 'accResultant', 'gyrX', 'gyrY', 'gyrZ',\n",
       "       'isFall'],\n",
       "      dtype='object')"
      ]
     },
     "execution_count": 51,
     "metadata": {},
     "output_type": "execute_result"
    }
   ],
   "source": [
    "df.columns"
   ]
  },
  {
   "cell_type": "code",
   "execution_count": 52,
   "id": "fe59b84f",
   "metadata": {},
   "outputs": [],
   "source": [
    "headers = []\n",
    "\n",
    "for i in range(1, window_size + 1):\n",
    "    for column in df.columns:\n",
    "        if column == 'isFall':\n",
    "            continue\n",
    "        headers.append(column + '_' + str(i))\n",
    "headers.append('isFall')"
   ]
  },
  {
   "cell_type": "code",
   "execution_count": 53,
   "id": "c961edcb",
   "metadata": {},
   "outputs": [],
   "source": [
    "new_df = pd.DataFrame(new_arr, columns = headers)"
   ]
  },
  {
   "cell_type": "code",
   "execution_count": 54,
   "id": "9841ae51",
   "metadata": {},
   "outputs": [
    {
     "data": {
      "text/plain": [
       "(1811, 71)"
      ]
     },
     "execution_count": 54,
     "metadata": {},
     "output_type": "execute_result"
    }
   ],
   "source": [
    "new_df.shape"
   ]
  },
  {
   "cell_type": "code",
   "execution_count": 55,
   "id": "7cabc3a8",
   "metadata": {},
   "outputs": [
    {
     "data": {
      "text/html": [
       "<div>\n",
       "<style scoped>\n",
       "    .dataframe tbody tr th:only-of-type {\n",
       "        vertical-align: middle;\n",
       "    }\n",
       "\n",
       "    .dataframe tbody tr th {\n",
       "        vertical-align: top;\n",
       "    }\n",
       "\n",
       "    .dataframe thead th {\n",
       "        text-align: right;\n",
       "    }\n",
       "</style>\n",
       "<table border=\"1\" class=\"dataframe\">\n",
       "  <thead>\n",
       "    <tr style=\"text-align: right;\">\n",
       "      <th></th>\n",
       "      <th>accX_1</th>\n",
       "      <th>accY_1</th>\n",
       "      <th>accZ_1</th>\n",
       "      <th>accResultant_1</th>\n",
       "      <th>gyrX_1</th>\n",
       "      <th>gyrY_1</th>\n",
       "      <th>gyrZ_1</th>\n",
       "      <th>accX_2</th>\n",
       "      <th>accY_2</th>\n",
       "      <th>accZ_2</th>\n",
       "      <th>...</th>\n",
       "      <th>gyrY_9</th>\n",
       "      <th>gyrZ_9</th>\n",
       "      <th>accX_10</th>\n",
       "      <th>accY_10</th>\n",
       "      <th>accZ_10</th>\n",
       "      <th>accResultant_10</th>\n",
       "      <th>gyrX_10</th>\n",
       "      <th>gyrY_10</th>\n",
       "      <th>gyrZ_10</th>\n",
       "      <th>isFall</th>\n",
       "    </tr>\n",
       "  </thead>\n",
       "  <tbody>\n",
       "    <tr>\n",
       "      <th>0</th>\n",
       "      <td>0.02</td>\n",
       "      <td>-0.87</td>\n",
       "      <td>2.06</td>\n",
       "      <td>2.24</td>\n",
       "      <td>-5.92</td>\n",
       "      <td>1.57</td>\n",
       "      <td>-0.04</td>\n",
       "      <td>0.03</td>\n",
       "      <td>-0.87</td>\n",
       "      <td>2.08</td>\n",
       "      <td>...</td>\n",
       "      <td>0.88</td>\n",
       "      <td>0.25</td>\n",
       "      <td>0.03</td>\n",
       "      <td>-0.87</td>\n",
       "      <td>2.02</td>\n",
       "      <td>2.20</td>\n",
       "      <td>0.26</td>\n",
       "      <td>1.16</td>\n",
       "      <td>0.18</td>\n",
       "      <td>0.0</td>\n",
       "    </tr>\n",
       "    <tr>\n",
       "      <th>1</th>\n",
       "      <td>0.03</td>\n",
       "      <td>-0.87</td>\n",
       "      <td>2.13</td>\n",
       "      <td>2.31</td>\n",
       "      <td>-1.47</td>\n",
       "      <td>0.95</td>\n",
       "      <td>-0.94</td>\n",
       "      <td>0.03</td>\n",
       "      <td>-0.87</td>\n",
       "      <td>2.07</td>\n",
       "      <td>...</td>\n",
       "      <td>0.95</td>\n",
       "      <td>1.46</td>\n",
       "      <td>0.04</td>\n",
       "      <td>-0.86</td>\n",
       "      <td>2.06</td>\n",
       "      <td>2.24</td>\n",
       "      <td>-4.30</td>\n",
       "      <td>2.23</td>\n",
       "      <td>0.65</td>\n",
       "      <td>0.0</td>\n",
       "    </tr>\n",
       "    <tr>\n",
       "      <th>2</th>\n",
       "      <td>0.03</td>\n",
       "      <td>-0.88</td>\n",
       "      <td>2.09</td>\n",
       "      <td>2.27</td>\n",
       "      <td>-6.20</td>\n",
       "      <td>4.59</td>\n",
       "      <td>2.05</td>\n",
       "      <td>0.04</td>\n",
       "      <td>-0.87</td>\n",
       "      <td>2.07</td>\n",
       "      <td>...</td>\n",
       "      <td>10.86</td>\n",
       "      <td>22.49</td>\n",
       "      <td>-0.03</td>\n",
       "      <td>0.08</td>\n",
       "      <td>0.99</td>\n",
       "      <td>0.99</td>\n",
       "      <td>-7.09</td>\n",
       "      <td>1.27</td>\n",
       "      <td>0.25</td>\n",
       "      <td>1.0</td>\n",
       "    </tr>\n",
       "    <tr>\n",
       "      <th>3</th>\n",
       "      <td>0.04</td>\n",
       "      <td>-0.87</td>\n",
       "      <td>2.07</td>\n",
       "      <td>2.25</td>\n",
       "      <td>-10.70</td>\n",
       "      <td>1.66</td>\n",
       "      <td>0.73</td>\n",
       "      <td>0.04</td>\n",
       "      <td>-0.87</td>\n",
       "      <td>2.04</td>\n",
       "      <td>...</td>\n",
       "      <td>1.27</td>\n",
       "      <td>0.25</td>\n",
       "      <td>-0.03</td>\n",
       "      <td>0.07</td>\n",
       "      <td>1.00</td>\n",
       "      <td>1.00</td>\n",
       "      <td>-6.25</td>\n",
       "      <td>1.29</td>\n",
       "      <td>0.20</td>\n",
       "      <td>1.0</td>\n",
       "    </tr>\n",
       "    <tr>\n",
       "      <th>4</th>\n",
       "      <td>0.04</td>\n",
       "      <td>-0.87</td>\n",
       "      <td>2.04</td>\n",
       "      <td>2.22</td>\n",
       "      <td>-9.71</td>\n",
       "      <td>1.54</td>\n",
       "      <td>0.70</td>\n",
       "      <td>0.03</td>\n",
       "      <td>-0.87</td>\n",
       "      <td>2.04</td>\n",
       "      <td>...</td>\n",
       "      <td>1.29</td>\n",
       "      <td>0.20</td>\n",
       "      <td>-0.03</td>\n",
       "      <td>0.07</td>\n",
       "      <td>1.00</td>\n",
       "      <td>1.00</td>\n",
       "      <td>-6.25</td>\n",
       "      <td>1.31</td>\n",
       "      <td>0.28</td>\n",
       "      <td>1.0</td>\n",
       "    </tr>\n",
       "  </tbody>\n",
       "</table>\n",
       "<p>5 rows × 71 columns</p>\n",
       "</div>"
      ],
      "text/plain": [
       "   accX_1  accY_1  accZ_1  accResultant_1  gyrX_1  gyrY_1  gyrZ_1  accX_2  \\\n",
       "0    0.02   -0.87    2.06            2.24   -5.92    1.57   -0.04    0.03   \n",
       "1    0.03   -0.87    2.13            2.31   -1.47    0.95   -0.94    0.03   \n",
       "2    0.03   -0.88    2.09            2.27   -6.20    4.59    2.05    0.04   \n",
       "3    0.04   -0.87    2.07            2.25  -10.70    1.66    0.73    0.04   \n",
       "4    0.04   -0.87    2.04            2.22   -9.71    1.54    0.70    0.03   \n",
       "\n",
       "   accY_2  accZ_2  ...  gyrY_9  gyrZ_9  accX_10  accY_10  accZ_10  \\\n",
       "0   -0.87    2.08  ...    0.88    0.25     0.03    -0.87     2.02   \n",
       "1   -0.87    2.07  ...    0.95    1.46     0.04    -0.86     2.06   \n",
       "2   -0.87    2.07  ...   10.86   22.49    -0.03     0.08     0.99   \n",
       "3   -0.87    2.04  ...    1.27    0.25    -0.03     0.07     1.00   \n",
       "4   -0.87    2.04  ...    1.29    0.20    -0.03     0.07     1.00   \n",
       "\n",
       "   accResultant_10  gyrX_10  gyrY_10  gyrZ_10  isFall  \n",
       "0             2.20     0.26     1.16     0.18     0.0  \n",
       "1             2.24    -4.30     2.23     0.65     0.0  \n",
       "2             0.99    -7.09     1.27     0.25     1.0  \n",
       "3             1.00    -6.25     1.29     0.20     1.0  \n",
       "4             1.00    -6.25     1.31     0.28     1.0  \n",
       "\n",
       "[5 rows x 71 columns]"
      ]
     },
     "execution_count": 55,
     "metadata": {},
     "output_type": "execute_result"
    }
   ],
   "source": [
    "new_df.head()"
   ]
  },
  {
   "cell_type": "code",
   "execution_count": 56,
   "id": "713afa26",
   "metadata": {},
   "outputs": [],
   "source": [
    "new_df.to_csv('out.csv')  "
   ]
  }
 ],
 "metadata": {
  "kernelspec": {
   "display_name": "Python 3 (ipykernel)",
   "language": "python",
   "name": "python3"
  },
  "language_info": {
   "codemirror_mode": {
    "name": "ipython",
    "version": 3
   },
   "file_extension": ".py",
   "mimetype": "text/x-python",
   "name": "python",
   "nbconvert_exporter": "python",
   "pygments_lexer": "ipython3",
   "version": "3.9.15"
  }
 },
 "nbformat": 4,
 "nbformat_minor": 5
}
